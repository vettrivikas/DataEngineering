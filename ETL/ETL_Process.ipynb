{
  "nbformat": 4,
  "nbformat_minor": 0,
  "metadata": {
    "colab": {
      "name": "ETL_Process.ipynb",
      "provenance": []
    },
    "kernelspec": {
      "name": "python3",
      "display_name": "Python 3"
    },
    "language_info": {
      "name": "python"
    }
  },
  "cells": [
    {
      "cell_type": "code",
      "metadata": {
        "id": "7shvm1GVPIkQ",
        "colab": {
          "base_uri": "https://localhost:8080/"
        },
        "outputId": "cd3b7934-256c-40a1-a215-7c4e606a9e8e"
      },
      "source": [
        "from google.colab import drive\n",
        "drive.mount('/content/drive')"
      ],
      "execution_count": 3,
      "outputs": [
        {
          "output_type": "stream",
          "text": [
            "Mounted at /content/drive\n"
          ],
          "name": "stdout"
        }
      ]
    },
    {
      "cell_type": "code",
      "metadata": {
        "colab": {
          "base_uri": "https://localhost:8080/"
        },
        "id": "QiVkjhMVPYfR",
        "outputId": "428833e5-297b-4146-b10f-6b1590ed1f1b"
      },
      "source": [
        "!7z e /content/drive/MyDrive/Hr5m.7z"
      ],
      "execution_count": 4,
      "outputs": [
        {
          "output_type": "stream",
          "text": [
            "\n",
            "7-Zip [64] 16.02 : Copyright (c) 1999-2016 Igor Pavlov : 2016-05-21\n",
            "p7zip Version 16.02 (locale=en_US.UTF-8,Utf16=on,HugeFiles=on,64 bits,2 CPUs Intel(R) Xeon(R) CPU @ 2.20GHz (406F0),ASM,AES-NI)\n",
            "\n",
            "Scanning the drive for archives:\n",
            "  0M Scan /content/drive/MyDrive/\b\b\b\b\b\b\b\b\b\b\b\b\b\b\b\b\b\b\b\b\b\b\b\b\b\b\b\b\b\b\b\b\b                                 \b\b\b\b\b\b\b\b\b\b\b\b\b\b\b\b\b\b\b\b\b\b\b\b\b\b\b\b\b\b\b\b\b1 file, 395864536 bytes (378 MiB)\n",
            "\n",
            "Extracting archive: /content/drive/MyDrive/Hr5m.7z\n",
            "--\n",
            "Path = /content/drive/MyDrive/Hr5m.7z\n",
            "Type = 7z\n",
            "Physical Size = 395864536\n",
            "Headers Size = 122\n",
            "Method = LZMA2:24\n",
            "Solid = -\n",
            "Blocks = 1\n",
            "\n",
            "  0%\b\b\b\b    \b\b\b\b  0% - Hr5m.csv\b\b\b\b\b\b\b\b\b\b\b\b\b\b\b               \b\b\b\b\b\b\b\b\b\b\b\b\b\b\b  1% - Hr5m.csv\b\b\b\b\b\b\b\b\b\b\b\b\b\b\b               \b\b\b\b\b\b\b\b\b\b\b\b\b\b\b  2% - Hr5m.csv\b\b\b\b\b\b\b\b\b\b\b\b\b\b\b               \b\b\b\b\b\b\b\b\b\b\b\b\b\b\b  3% - Hr5m.csv\b\b\b\b\b\b\b\b\b\b\b\b\b\b\b               \b\b\b\b\b\b\b\b\b\b\b\b\b\b\b  4% - Hr5m.csv\b\b\b\b\b\b\b\b\b\b\b\b\b\b\b               \b\b\b\b\b\b\b\b\b\b\b\b\b\b\b  5% - Hr5m.csv\b\b\b\b\b\b\b\b\b\b\b\b\b\b\b               \b\b\b\b\b\b\b\b\b\b\b\b\b\b\b  6% - Hr5m.csv\b\b\b\b\b\b\b\b\b\b\b\b\b\b\b               \b\b\b\b\b\b\b\b\b\b\b\b\b\b\b  7% - Hr5m.csv\b\b\b\b\b\b\b\b\b\b\b\b\b\b\b               \b\b\b\b\b\b\b\b\b\b\b\b\b\b\b  8% - Hr5m.csv\b\b\b\b\b\b\b\b\b\b\b\b\b\b\b               \b\b\b\b\b\b\b\b\b\b\b\b\b\b\b  9% - Hr5m.csv\b\b\b\b\b\b\b\b\b\b\b\b\b\b\b               \b\b\b\b\b\b\b\b\b\b\b\b\b\b\b 10% - Hr5m.csv\b\b\b\b\b\b\b\b\b\b\b\b\b\b\b               \b\b\b\b\b\b\b\b\b\b\b\b\b\b\b 11% - Hr5m.csv\b\b\b\b\b\b\b\b\b\b\b\b\b\b\b               \b\b\b\b\b\b\b\b\b\b\b\b\b\b\b 12% - Hr5m.csv\b\b\b\b\b\b\b\b\b\b\b\b\b\b\b               \b\b\b\b\b\b\b\b\b\b\b\b\b\b\b 13% - Hr5m.csv\b\b\b\b\b\b\b\b\b\b\b\b\b\b\b               \b\b\b\b\b\b\b\b\b\b\b\b\b\b\b 14% - Hr5m.csv\b\b\b\b\b\b\b\b\b\b\b\b\b\b\b               \b\b\b\b\b\b\b\b\b\b\b\b\b\b\b 15% - Hr5m.csv\b\b\b\b\b\b\b\b\b\b\b\b\b\b\b               \b\b\b\b\b\b\b\b\b\b\b\b\b\b\b 16% - Hr5m.csv\b\b\b\b\b\b\b\b\b\b\b\b\b\b\b               \b\b\b\b\b\b\b\b\b\b\b\b\b\b\b 17% - Hr5m.csv\b\b\b\b\b\b\b\b\b\b\b\b\b\b\b               \b\b\b\b\b\b\b\b\b\b\b\b\b\b\b 18% - Hr5m.csv\b\b\b\b\b\b\b\b\b\b\b\b\b\b\b               \b\b\b\b\b\b\b\b\b\b\b\b\b\b\b 19% - Hr5m.csv\b\b\b\b\b\b\b\b\b\b\b\b\b\b\b               \b\b\b\b\b\b\b\b\b\b\b\b\b\b\b 20% - Hr5m.csv\b\b\b\b\b\b\b\b\b\b\b\b\b\b\b               \b\b\b\b\b\b\b\b\b\b\b\b\b\b\b 21% - Hr5m.csv\b\b\b\b\b\b\b\b\b\b\b\b\b\b\b               \b\b\b\b\b\b\b\b\b\b\b\b\b\b\b 22% - Hr5m.csv\b\b\b\b\b\b\b\b\b\b\b\b\b\b\b               \b\b\b\b\b\b\b\b\b\b\b\b\b\b\b 23% - Hr5m.csv\b\b\b\b\b\b\b\b\b\b\b\b\b\b\b               \b\b\b\b\b\b\b\b\b\b\b\b\b\b\b 24% - Hr5m.csv\b\b\b\b\b\b\b\b\b\b\b\b\b\b\b               \b\b\b\b\b\b\b\b\b\b\b\b\b\b\b 25% - Hr5m.csv\b\b\b\b\b\b\b\b\b\b\b\b\b\b\b               \b\b\b\b\b\b\b\b\b\b\b\b\b\b\b 26% - Hr5m.csv\b\b\b\b\b\b\b\b\b\b\b\b\b\b\b               \b\b\b\b\b\b\b\b\b\b\b\b\b\b\b 27% - Hr5m.csv\b\b\b\b\b\b\b\b\b\b\b\b\b\b\b               \b\b\b\b\b\b\b\b\b\b\b\b\b\b\b 28% - Hr5m.csv\b\b\b\b\b\b\b\b\b\b\b\b\b\b\b               \b\b\b\b\b\b\b\b\b\b\b\b\b\b\b 29% - Hr5m.csv\b\b\b\b\b\b\b\b\b\b\b\b\b\b\b               \b\b\b\b\b\b\b\b\b\b\b\b\b\b\b 30% - Hr5m.csv\b\b\b\b\b\b\b\b\b\b\b\b\b\b\b               \b\b\b\b\b\b\b\b\b\b\b\b\b\b\b 31% - Hr5m.csv\b\b\b\b\b\b\b\b\b\b\b\b\b\b\b               \b\b\b\b\b\b\b\b\b\b\b\b\b\b\b 32% - Hr5m.csv\b\b\b\b\b\b\b\b\b\b\b\b\b\b\b               \b\b\b\b\b\b\b\b\b\b\b\b\b\b\b 33% - Hr5m.csv\b\b\b\b\b\b\b\b\b\b\b\b\b\b\b               \b\b\b\b\b\b\b\b\b\b\b\b\b\b\b 34% - Hr5m.csv\b\b\b\b\b\b\b\b\b\b\b\b\b\b\b               \b\b\b\b\b\b\b\b\b\b\b\b\b\b\b 35% - Hr5m.csv\b\b\b\b\b\b\b\b\b\b\b\b\b\b\b               \b\b\b\b\b\b\b\b\b\b\b\b\b\b\b 36% - Hr5m.csv\b\b\b\b\b\b\b\b\b\b\b\b\b\b\b               \b\b\b\b\b\b\b\b\b\b\b\b\b\b\b 37% - Hr5m.csv\b\b\b\b\b\b\b\b\b\b\b\b\b\b\b               \b\b\b\b\b\b\b\b\b\b\b\b\b\b\b 38% - Hr5m.csv\b\b\b\b\b\b\b\b\b\b\b\b\b\b\b               \b\b\b\b\b\b\b\b\b\b\b\b\b\b\b 39% - Hr5m.csv\b\b\b\b\b\b\b\b\b\b\b\b\b\b\b               \b\b\b\b\b\b\b\b\b\b\b\b\b\b\b 40% - Hr5m.csv\b\b\b\b\b\b\b\b\b\b\b\b\b\b\b               \b\b\b\b\b\b\b\b\b\b\b\b\b\b\b 41% - Hr5m.csv\b\b\b\b\b\b\b\b\b\b\b\b\b\b\b               \b\b\b\b\b\b\b\b\b\b\b\b\b\b\b 42% - Hr5m.csv\b\b\b\b\b\b\b\b\b\b\b\b\b\b\b               \b\b\b\b\b\b\b\b\b\b\b\b\b\b\b 43% - Hr5m.csv\b\b\b\b\b\b\b\b\b\b\b\b\b\b\b               \b\b\b\b\b\b\b\b\b\b\b\b\b\b\b 44% - Hr5m.csv\b\b\b\b\b\b\b\b\b\b\b\b\b\b\b               \b\b\b\b\b\b\b\b\b\b\b\b\b\b\b 45% - Hr5m.csv\b\b\b\b\b\b\b\b\b\b\b\b\b\b\b               \b\b\b\b\b\b\b\b\b\b\b\b\b\b\b 46% - Hr5m.csv\b\b\b\b\b\b\b\b\b\b\b\b\b\b\b               \b\b\b\b\b\b\b\b\b\b\b\b\b\b\b 47% - Hr5m.csv\b\b\b\b\b\b\b\b\b\b\b\b\b\b\b               \b\b\b\b\b\b\b\b\b\b\b\b\b\b\b 48% - Hr5m.csv\b\b\b\b\b\b\b\b\b\b\b\b\b\b\b               \b\b\b\b\b\b\b\b\b\b\b\b\b\b\b 49% - Hr5m.csv\b\b\b\b\b\b\b\b\b\b\b\b\b\b\b               \b\b\b\b\b\b\b\b\b\b\b\b\b\b\b 50% - Hr5m.csv\b\b\b\b\b\b\b\b\b\b\b\b\b\b\b               \b\b\b\b\b\b\b\b\b\b\b\b\b\b\b 51% - Hr5m.csv\b\b\b\b\b\b\b\b\b\b\b\b\b\b\b               \b\b\b\b\b\b\b\b\b\b\b\b\b\b\b 52% - Hr5m.csv\b\b\b\b\b\b\b\b\b\b\b\b\b\b\b               \b\b\b\b\b\b\b\b\b\b\b\b\b\b\b 53% - Hr5m.csv\b\b\b\b\b\b\b\b\b\b\b\b\b\b\b               \b\b\b\b\b\b\b\b\b\b\b\b\b\b\b 54% - Hr5m.csv\b\b\b\b\b\b\b\b\b\b\b\b\b\b\b               \b\b\b\b\b\b\b\b\b\b\b\b\b\b\b 55% - Hr5m.csv\b\b\b\b\b\b\b\b\b\b\b\b\b\b\b               \b\b\b\b\b\b\b\b\b\b\b\b\b\b\b 56% - Hr5m.csv\b\b\b\b\b\b\b\b\b\b\b\b\b\b\b               \b\b\b\b\b\b\b\b\b\b\b\b\b\b\b 57% - Hr5m.csv\b\b\b\b\b\b\b\b\b\b\b\b\b\b\b               \b\b\b\b\b\b\b\b\b\b\b\b\b\b\b 58% - Hr5m.csv\b\b\b\b\b\b\b\b\b\b\b\b\b\b\b               \b\b\b\b\b\b\b\b\b\b\b\b\b\b\b 59% - Hr5m.csv\b\b\b\b\b\b\b\b\b\b\b\b\b\b\b               \b\b\b\b\b\b\b\b\b\b\b\b\b\b\b 60% - Hr5m.csv\b\b\b\b\b\b\b\b\b\b\b\b\b\b\b               \b\b\b\b\b\b\b\b\b\b\b\b\b\b\b 61% - Hr5m.csv\b\b\b\b\b\b\b\b\b\b\b\b\b\b\b               \b\b\b\b\b\b\b\b\b\b\b\b\b\b\b 62% - Hr5m.csv\b\b\b\b\b\b\b\b\b\b\b\b\b\b\b               \b\b\b\b\b\b\b\b\b\b\b\b\b\b\b 63% - Hr5m.csv\b\b\b\b\b\b\b\b\b\b\b\b\b\b\b               \b\b\b\b\b\b\b\b\b\b\b\b\b\b\b 64% - Hr5m.csv\b\b\b\b\b\b\b\b\b\b\b\b\b\b\b               \b\b\b\b\b\b\b\b\b\b\b\b\b\b\b 65% - Hr5m.csv\b\b\b\b\b\b\b\b\b\b\b\b\b\b\b               \b\b\b\b\b\b\b\b\b\b\b\b\b\b\b 66% - Hr5m.csv\b\b\b\b\b\b\b\b\b\b\b\b\b\b\b               \b\b\b\b\b\b\b\b\b\b\b\b\b\b\b 67% - Hr5m.csv\b\b\b\b\b\b\b\b\b\b\b\b\b\b\b               \b\b\b\b\b\b\b\b\b\b\b\b\b\b\b 68% - Hr5m.csv\b\b\b\b\b\b\b\b\b\b\b\b\b\b\b               \b\b\b\b\b\b\b\b\b\b\b\b\b\b\b 69% - Hr5m.csv\b\b\b\b\b\b\b\b\b\b\b\b\b\b\b               \b\b\b\b\b\b\b\b\b\b\b\b\b\b\b 70% - Hr5m.csv\b\b\b\b\b\b\b\b\b\b\b\b\b\b\b               \b\b\b\b\b\b\b\b\b\b\b\b\b\b\b 71% - Hr5m.csv\b\b\b\b\b\b\b\b\b\b\b\b\b\b\b               \b\b\b\b\b\b\b\b\b\b\b\b\b\b\b 72% - Hr5m.csv\b\b\b\b\b\b\b\b\b\b\b\b\b\b\b               \b\b\b\b\b\b\b\b\b\b\b\b\b\b\b 73% - Hr5m.csv\b\b\b\b\b\b\b\b\b\b\b\b\b\b\b               \b\b\b\b\b\b\b\b\b\b\b\b\b\b\b 74% - Hr5m.csv\b\b\b\b\b\b\b\b\b\b\b\b\b\b\b               \b\b\b\b\b\b\b\b\b\b\b\b\b\b\b 75% - Hr5m.csv\b\b\b\b\b\b\b\b\b\b\b\b\b\b\b               \b\b\b\b\b\b\b\b\b\b\b\b\b\b\b 76% - Hr5m.csv\b\b\b\b\b\b\b\b\b\b\b\b\b\b\b               \b\b\b\b\b\b\b\b\b\b\b\b\b\b\b 77% - Hr5m.csv\b\b\b\b\b\b\b\b\b\b\b\b\b\b\b               \b\b\b\b\b\b\b\b\b\b\b\b\b\b\b 78% - Hr5m.csv\b\b\b\b\b\b\b\b\b\b\b\b\b\b\b               \b\b\b\b\b\b\b\b\b\b\b\b\b\b\b 79% - Hr5m.csv\b\b\b\b\b\b\b\b\b\b\b\b\b\b\b               \b\b\b\b\b\b\b\b\b\b\b\b\b\b\b 80% - Hr5m.csv\b\b\b\b\b\b\b\b\b\b\b\b\b\b\b               \b\b\b\b\b\b\b\b\b\b\b\b\b\b\b 81% - Hr5m.csv\b\b\b\b\b\b\b\b\b\b\b\b\b\b\b               \b\b\b\b\b\b\b\b\b\b\b\b\b\b\b 82% - Hr5m.csv\b\b\b\b\b\b\b\b\b\b\b\b\b\b\b               \b\b\b\b\b\b\b\b\b\b\b\b\b\b\b 83% - Hr5m.csv\b\b\b\b\b\b\b\b\b\b\b\b\b\b\b               \b\b\b\b\b\b\b\b\b\b\b\b\b\b\b 84% - Hr5m.csv\b\b\b\b\b\b\b\b\b\b\b\b\b\b\b               \b\b\b\b\b\b\b\b\b\b\b\b\b\b\b 85% - Hr5m.csv\b\b\b\b\b\b\b\b\b\b\b\b\b\b\b               \b\b\b\b\b\b\b\b\b\b\b\b\b\b\b 86% - Hr5m.csv\b\b\b\b\b\b\b\b\b\b\b\b\b\b\b               \b\b\b\b\b\b\b\b\b\b\b\b\b\b\b 87% - Hr5m.csv\b\b\b\b\b\b\b\b\b\b\b\b\b\b\b               \b\b\b\b\b\b\b\b\b\b\b\b\b\b\b 88% - Hr5m.csv\b\b\b\b\b\b\b\b\b\b\b\b\b\b\b               \b\b\b\b\b\b\b\b\b\b\b\b\b\b\b 89% - Hr5m.csv\b\b\b\b\b\b\b\b\b\b\b\b\b\b\b               \b\b\b\b\b\b\b\b\b\b\b\b\b\b\b 90% - Hr5m.csv\b\b\b\b\b\b\b\b\b\b\b\b\b\b\b               \b\b\b\b\b\b\b\b\b\b\b\b\b\b\b 91% - Hr5m.csv\b\b\b\b\b\b\b\b\b\b\b\b\b\b\b               \b\b\b\b\b\b\b\b\b\b\b\b\b\b\b 92% - Hr5m.csv\b\b\b\b\b\b\b\b\b\b\b\b\b\b\b               \b\b\b\b\b\b\b\b\b\b\b\b\b\b\b 93% - Hr5m.csv\b\b\b\b\b\b\b\b\b\b\b\b\b\b\b               \b\b\b\b\b\b\b\b\b\b\b\b\b\b\b 94% - Hr5m.csv\b\b\b\b\b\b\b\b\b\b\b\b\b\b\b               \b\b\b\b\b\b\b\b\b\b\b\b\b\b\b 95% - Hr5m.csv\b\b\b\b\b\b\b\b\b\b\b\b\b\b\b               \b\b\b\b\b\b\b\b\b\b\b\b\b\b\b 96% - Hr5m.csv\b\b\b\b\b\b\b\b\b\b\b\b\b\b\b               \b\b\b\b\b\b\b\b\b\b\b\b\b\b\b 97% - Hr5m.csv\b\b\b\b\b\b\b\b\b\b\b\b\b\b\b               \b\b\b\b\b\b\b\b\b\b\b\b\b\b\b 98% - Hr5m.csv\b\b\b\b\b\b\b\b\b\b\b\b\b\b\b               \b\b\b\b\b\b\b\b\b\b\b\b\b\b\b 99% - Hr5m.csv\b\b\b\b\b\b\b\b\b\b\b\b\b\b\b               \b\b\b\b\b\b\b\b\b\b\b\b\b\b\b100% 1\b\b\b\b\b\b      \b\b\b\b\b\bEverything is Ok\n",
            "\n",
            "Size:       1390485607\n",
            "Compressed: 395864536\n"
          ],
          "name": "stdout"
        }
      ]
    },
    {
      "cell_type": "code",
      "metadata": {
        "id": "ojYyuE2JiP7W"
      },
      "source": [
        "!apt-get update"
      ],
      "execution_count": null,
      "outputs": []
    },
    {
      "cell_type": "code",
      "metadata": {
        "id": "33eo4Lx_Pcoq"
      },
      "source": [
        "!apt-get install openjdk-8-jdk-headless -qq > /dev/null\n",
        "!wget -q https://downloads.apache.org/spark/spark-3.0.2/spark-3.0.2-bin-hadoop2.7.tgz\n",
        "!tar xf spark-3.0.2-bin-hadoop2.7.tgz\n",
        "import os\n",
        "os.environ[\"JAVA_HOME\"] = \"/usr/lib/jvm/java-8-openjdk-amd64\"\n",
        "os.environ[\"SPARK_HOME\"] = \"/content/spark-3.0.2-bin-hadoop2.7\"\n"
      ],
      "execution_count": 3,
      "outputs": []
    },
    {
      "cell_type": "code",
      "metadata": {
        "id": "1Oi7pM5vQKSh"
      },
      "source": [
        "!pip install -q findspark\n",
        "import findspark\n",
        "findspark.init()"
      ],
      "execution_count": 4,
      "outputs": []
    },
    {
      "cell_type": "code",
      "metadata": {
        "id": "bIslju3-QgwR"
      },
      "source": [
        "from pyspark.sql import SparkSession\n",
        "spark = SparkSession.builder\\\n",
        "        .master(\"local\")\\\n",
        "        .appName(\"Colab\")\\\n",
        "        .config('spark.ui.port', '4050')\\\n",
        "        .getOrCreate()\n"
      ],
      "execution_count": 5,
      "outputs": []
    },
    {
      "cell_type": "code",
      "metadata": {
        "id": "Sn0-yT1hQa27"
      },
      "source": [
        "data = spark.read.csv(\"/content/Hr5m.csv\", header=True, inferSchema=True)"
      ],
      "execution_count": 6,
      "outputs": []
    },
    {
      "cell_type": "code",
      "metadata": {
        "colab": {
          "base_uri": "https://localhost:8080/"
        },
        "id": "QAKoB6TwRS5J",
        "outputId": "e2a47a71-0bdc-4bcf-f7c7-463d804bad47"
      },
      "source": [
        "data.printSchema()"
      ],
      "execution_count": 7,
      "outputs": [
        {
          "output_type": "stream",
          "text": [
            "root\n",
            " |-- Emp ID: integer (nullable = true)\n",
            " |-- Name Prefix: string (nullable = true)\n",
            " |-- First Name: string (nullable = true)\n",
            " |-- Middle Initial: string (nullable = true)\n",
            " |-- Last Name: string (nullable = true)\n",
            " |-- Gender: string (nullable = true)\n",
            " |-- E Mail: string (nullable = true)\n",
            " |-- Father's Name: string (nullable = true)\n",
            " |-- Mother's Name: string (nullable = true)\n",
            " |-- Mother's Maiden Name: string (nullable = true)\n",
            " |-- Date of Birth: string (nullable = true)\n",
            " |-- Time of Birth: string (nullable = true)\n",
            " |-- Age in Yrs.: double (nullable = true)\n",
            " |-- Weight in Kgs.: integer (nullable = true)\n",
            " |-- Date of Joining: string (nullable = true)\n",
            " |-- Quarter of Joining: string (nullable = true)\n",
            " |-- Half of Joining: string (nullable = true)\n",
            " |-- Year of Joining: integer (nullable = true)\n",
            " |-- Month of Joining: integer (nullable = true)\n",
            " |-- Month Name of Joining: string (nullable = true)\n",
            " |-- Short Month: string (nullable = true)\n",
            " |-- Day of Joining: integer (nullable = true)\n",
            " |-- DOW of Joining: string (nullable = true)\n",
            " |-- Short DOW: string (nullable = true)\n",
            " |-- Age in Company (Years): double (nullable = true)\n",
            " |-- Salary: integer (nullable = true)\n",
            " |-- Last % Hike: string (nullable = true)\n",
            " |-- SSN: string (nullable = true)\n",
            " |-- Phone No. : string (nullable = true)\n",
            " |-- Place Name: string (nullable = true)\n",
            " |-- County: string (nullable = true)\n",
            " |-- City: string (nullable = true)\n",
            " |-- State: string (nullable = true)\n",
            " |-- Zip: integer (nullable = true)\n",
            " |-- Region: string (nullable = true)\n",
            " |-- User Name: string (nullable = true)\n",
            " |-- Password: string (nullable = true)\n",
            "\n"
          ],
          "name": "stdout"
        }
      ]
    },
    {
      "cell_type": "code",
      "metadata": {
        "colab": {
          "base_uri": "https://localhost:8080/"
        },
        "id": "1oIWz-zLReGS",
        "outputId": "8ecaaaea-6a60-403c-fea8-8d2bc5689a2c"
      },
      "source": [
        "data.count()"
      ],
      "execution_count": 12,
      "outputs": [
        {
          "output_type": "execute_result",
          "data": {
            "text/plain": [
              "5000000"
            ]
          },
          "metadata": {
            "tags": []
          },
          "execution_count": 12
        }
      ]
    },
    {
      "cell_type": "code",
      "metadata": {
        "colab": {
          "base_uri": "https://localhost:8080/"
        },
        "id": "E3JYosgDR79a",
        "outputId": "2eff5e8f-30ed-4327-f656-956f55429a77"
      },
      "source": [
        "data.show()"
      ],
      "execution_count": 8,
      "outputs": [
        {
          "output_type": "stream",
          "text": [
            "+------+-----------+----------+--------------+---------+------+--------------------+----------------+------------------+--------------------+-------------+-------------+-----------+--------------+---------------+------------------+---------------+---------------+----------------+---------------------+-----------+--------------+--------------+---------+----------------------+------+-----------+-----------+------------+-------------+--------------------+-------------+-----+-----+---------+-----------+---------------+\n",
            "|Emp ID|Name Prefix|First Name|Middle Initial|Last Name|Gender|              E Mail|   Father's Name|     Mother's Name|Mother's Maiden Name|Date of Birth|Time of Birth|Age in Yrs.|Weight in Kgs.|Date of Joining|Quarter of Joining|Half of Joining|Year of Joining|Month of Joining|Month Name of Joining|Short Month|Day of Joining|DOW of Joining|Short DOW|Age in Company (Years)|Salary|Last % Hike|        SSN|  Phone No. |   Place Name|              County|         City|State|  Zip|   Region|  User Name|       Password|\n",
            "+------+-----------+----------+--------------+---------+------+--------------------+----------------+------------------+--------------------+-------------+-------------+-----------+--------------+---------------+------------------+---------------+---------------+----------------+---------------------+-----------+--------------+--------------+---------+----------------------+------+-----------+-----------+------------+-------------+--------------------+-------------+-----+-----+---------+-----------+---------------+\n",
            "|742048|       Drs.|    Lizeth|             P|   Mccoll|     F|lizeth.mccoll@ibm...|   Renato Mccoll|     Serena Mccoll|             Broxton|     7/5/1973|  08:14:43 AM|      47.19|            49|       1/7/1995|                Q1|             H1|           1995|               1|              January|        Jan|             7|      Saturday|      Sat|                 25.67|147446|        14%|171-86-6830|216-703-2865|     Alliance|               Stark|     Alliance|   OH|44601|  Midwest|   lpmccoll|     b5CDsd1Mz.|\n",
            "|671135|        Ms.| Argentina|             O|     Hern|     F|argentina.hern@nt...|       Earl Hern|      Chrissy Hern|              Tapley|   10/15/1962|  02:08:22 AM|      57.92|            53|       4/1/1986|                Q2|             H1|           1986|               4|                April|        Apr|             1|       Tuesday|      Tue|                 34.44|129174|         8%|083-02-3078|202-572-0136|   Washington|District of Columbia|   Washington|   DC|20411|    South|     aohern| vsUv&nFc?lM|2-|\n",
            "|965851|        Mr.|    Damian|             N|  Patillo|     M|damian.patillo@ou...|  Harley Patillo|   Lucinda Patillo|               Etter|    3/11/1975|  07:48:45 PM|      45.51|            84|     12/16/2004|                Q4|             H2|           2004|              12|             December|        Dec|            16|      Thursday|      Thu|                 15.72|158746|         8%|326-11-9852|209-784-3915|       Burrel|              Fresno|       Burrel|   CA|93607|     West|  dnpatillo|   GQj^c:4#B:F8|\n",
            "|224660|       Drs.|   Imogene|             P| Hagopian|     F|imogene.hagopian@...| Delmar Hagopian| Carolina Hagopian|             Lockett|    2/19/1995|  03:15:09 PM|      25.55|            52|       6/8/2017|                Q2|             H1|           2017|               6|                 June|        Jun|             8|      Thursday|      Thu|                  3.23| 55761|        14%|656-36-0772|210-460-6327|        Bryan|              Brazos|        Bryan|   TX|77806|    South| iphagopian|     d[aHK7aiH&|\n",
            "|852694|        Mr.|    Walker|             E|  Wallach|     M|walker.wallach@ao...|    Gale Wallach|Georgianna Wallach|           Creekmore|     8/5/1992|  01:03:46 PM|      28.09|            50|      2/28/2020|                Q1|             H1|           2020|               2|             February|        Feb|            28|        Friday|      Fri|                  0.51|197519|        24%|296-15-3535|225-846-1969|     Newllano|              Vernon|     Newllano|   LA|71461|    South|  wewallach|       kM\\7h*}7|\n",
            "|144102|        Ms.|  Jesusita|             W|   Hollie|     F|jesusita.hollie@h...|  Clement Hollie|      Nilda Hollie|              Barone|   10/30/1987|  04:55:43 AM|      32.86|            49|       3/5/2015|                Q1|             H1|           2015|               3|                March|        Mar|             5|      Thursday|      Thu|                   5.5|103839|         6%|375-37-3861|209-219-5562|      Topanga|         Los Angeles|      Topanga|   CA|90290|     West|   jwhollie|       p1-G0\\b~|\n",
            "|687793|        Mr.|    Fausto|             P|  Esqueda|     M|fausto.esqueda@ao...|  Randal Esqueda|      Yang Esqueda|             Cullens|    4/23/1971|  10:25:52 AM|      49.39|            75|     10/29/1998|                Q4|             H2|           1998|              10|              October|        Oct|            29|      Thursday|      Thu|                 21.85| 60101|         5%|095-02-0857|216-722-2112|    Somerdale|          Tuscarawas|    Somerdale|   OH|44678|  Midwest|  fpesqueda| lX!iJCJF@[f-/F|\n",
            "|636308|       Mrs.|     Vanda|             S|    Komar|     F| vanda.komar@aol.com|     Carlo Komar|       Katia Komar|            Almanzar|     9/2/1962|  02:52:40 AM|      58.04|            52|      7/25/2018|                Q3|             H2|           2018|               7|                 July|        Jul|            25|     Wednesday|      Wed|                   2.1|115639|        26%|002-11-5408|216-224-9563|        Akron|              Summit|        Akron|   OH|44312|  Midwest|    vskomar|I0!gVO~XFHG0\\9q|\n",
            "|218660|       Mrs.|   Destiny|             A|Nicholson|     F|destiny.nicholson...| Ramon Nicholson|  Tanika Nicholson|             Schauer|     7/1/1995|  01:58:42 PM|      25.19|            54|     11/22/2016|                Q4|             H2|           2016|              11|             November|        Nov|            22|       Tuesday|      Tue|                  3.78|126048|        19%|386-37-5628|201-997-3957|Atlantic City|            Atlantic|Atlantic City|   NJ| 8401|Northeast|danicholson|       s|?t/%X+|\n",
            "|465691|        Ms.|      Evie|             V|    Hamby|     F|evie.hamby@gmail.com|     Devin Hamby|      Jerica Hamby|                Plum|    6/22/1980|  12:17:42 AM|      40.22|            60|      10/4/2013|                Q4|             H2|           2013|              10|              October|        Oct|             4|        Friday|      Fri|                  6.91|193757|        28%|682-24-5946|201-331-7085|     Rockaway|              Morris|     Rockaway|   NJ| 7866|Northeast|    evhamby|       Xv7!P;xf|\n",
            "|242339|        Dr.|   Carlton|             G|Friedrich|     M|carlton.friedrich...| Tommy Friedrich|   Ricki Friedrich|                Camp|    10/7/1993|  12:05:46 AM|      26.92|            64|      10/5/2016|                Q4|             H2|           2016|              10|              October|        Oct|             5|     Wednesday|      Wed|                  3.91| 43826|        14%|717-18-8892|216-458-6650|   Cincinnati|            Hamilton|   Cincinnati|   OH|45202|  Midwest|cgfriedrich|     ROEj:i88Ov|\n",
            "|636949|        Mr.|   Carmelo|             A|   Haynie|     M|carmelo.haynie@gm...|    Mason Haynie|     Dorian Haynie|            Blessing|    3/19/1988|  01:02:33 PM|      32.47|            83|      3/10/2015|                Q1|             H1|           2015|               3|                March|        Mar|            10|       Tuesday|      Tue|                  5.48| 84036|         2%|529-99-1135|231-719-8915|       Howell|          Livingston|       Howell|   MI|48844|  Midwest|   cahaynie|     R^[haXId3H|\n",
            "|890565|        Ms.|      Bari|             K|   Troche|     F|bari.troche@hotma...|   Wilson Troche|    Madison Troche|              Imhoff|    6/12/1961|  12:10:42 PM|      59.26|            40|       6/6/2006|                Q2|             H1|           2006|               6|                 June|        Jun|             6|       Tuesday|      Tue|                 14.25|182148|        30%|479-41-7839|505-741-3868| Cochiti Lake|            Sandoval| Cochiti Lake|   NM|87083|     West|   bktroche|F}BQulqy[P@<Y8q|\n",
            "|206270|        Mr.|    Burton|             B|    Lowry|     M|burton.lowry@comc...|      Oren Lowry|      Fredda Lowry|             Goodwyn|    9/18/1987|  10:33:51 PM|      32.98|            50|     10/29/2011|                Q4|             H2|           2011|              10|              October|        Oct|            29|      Saturday|      Sat|                  8.85|181592|        26%|618-87-1917|215-747-2870|    Palmerton|              Carbon|    Palmerton|   PA|18071|Northeast|    bblowry|  k;B:j!?CkWb**|\n",
            "|418390|      Prof.|    Mickey|             Z|  Bassham|     M|mickey.bassham@gm...|    Deon Bassham|       Lan Bassham|             Buttler|    9/29/1997|  11:32:24 AM|      22.94|            57|     12/19/2019|                Q4|             H2|           2019|              12|             December|        Dec|            19|      Thursday|      Thu|                   0.7|131922|        23%|186-86-7205|231-987-8818|   Lake Orion|             Oakland|   Lake Orion|   MI|48362|  Midwest|  mzbassham|BVT4u}~8f{;xl15|\n",
            "|359884|        Ms.|      Ying|             Y|  Cerrone|     F|ying.cerrone@aol.com|Benedict Cerrone|   Jeanett Cerrone|                Line|    3/19/1980|  08:03:52 AM|      40.48|            53|      5/17/2012|                Q2|             H1|           2012|               5|                  May|        May|            17|      Thursday|      Thu|                   8.3|184946|         1%|083-02-7174|218-498-8798|         Iona|              Murray|         Iona|   MN|56141|  Midwest|  yycerrone|       Lx8ii-9U|\n",
            "|301840|       Mrs.|     Bette|             O|    Copas|     F|bette.copas@sbcgl...|    Rupert Copas|       Bette Copas|              Gerner|   11/12/1962|  07:20:25 AM|      57.84|            55|      2/26/2000|                Q1|             H1|           2000|               2|             February|        Feb|            26|      Saturday|      Sat|                 20.53|103833|        27%|124-98-3183|307-986-9240|    Hillsdale|             Laramie|    Hillsdale|   WY|82060|     West|    bocopas|   Fz-z~VtH9dfo|\n",
            "|232212|       Mrs.|      Tien|             W|   Harkey|     F| tien.harkey@cox.net|    Robin Harkey|   Carlotta Harkey|                Blas|     9/4/1998|  12:31:09 AM|      22.01|            52|      5/26/2020|                Q2|             H1|           2020|               5|                  May|        May|            26|       Tuesday|      Tue|                  0.27|103292|        10%|615-87-8886|209-433-3579|       Fresno|              Fresno|       Fresno|   CA|93782|     West|   twharkey| c/jI.a^K|[$}o#|\n",
            "|450156|        Ms.|      Loma|             S|  Chesney|     F|loma.chesney@yaho...|    Bret Chesney|     Viola Chesney|            Barnhill|    5/25/1963|  05:20:17 PM|      57.31|            50|     11/14/1989|                Q4|             H2|           1989|              11|             November|        Nov|            14|       Tuesday|      Tue|                 30.82| 66545|         7%|161-86-9824|205-930-2406|       Mobile|              Mobile|       Mobile|   AL|36602|    South|  lschesney|8U+<JTEXx&Q]R\\S|\n",
            "|158031|        Mr.|     Ruben|             K|   Pastor|     M|ruben.pastor@gmai...|Filiberto Pastor|       Dona Pastor|             Audette|   11/16/1993|  03:28:49 PM|      26.81|            83|     11/20/2016|                Q4|             H2|           2016|              11|             November|        Nov|            20|        Sunday|      Sun|                  3.78| 41892|         1%|768-02-9782|262-438-6125|    Cedarburg|             Ozaukee|    Cedarburg|   WI|53012|  Midwest|   rkpastor|      rk6{Wd|t%|\n",
            "+------+-----------+----------+--------------+---------+------+--------------------+----------------+------------------+--------------------+-------------+-------------+-----------+--------------+---------------+------------------+---------------+---------------+----------------+---------------------+-----------+--------------+--------------+---------+----------------------+------+-----------+-----------+------------+-------------+--------------------+-------------+-----+-----+---------+-----------+---------------+\n",
            "only showing top 20 rows\n",
            "\n"
          ],
          "name": "stdout"
        }
      ]
    },
    {
      "cell_type": "code",
      "metadata": {
        "colab": {
          "base_uri": "https://localhost:8080/"
        },
        "id": "oOxlQKyvSdC4",
        "outputId": "db1b3ebc-54b3-4105-825b-5c49285da49b"
      },
      "source": [
        "data.select(\"Short DOW\").distinct().show()"
      ],
      "execution_count": 15,
      "outputs": [
        {
          "output_type": "stream",
          "text": [
            "+---------+\n",
            "|Short DOW|\n",
            "+---------+\n",
            "|      Sun|\n",
            "|      Mon|\n",
            "|      Thu|\n",
            "|      Sat|\n",
            "|      Wed|\n",
            "|      Tue|\n",
            "|      Fri|\n",
            "+---------+\n",
            "\n"
          ],
          "name": "stdout"
        }
      ]
    },
    {
      "cell_type": "code",
      "metadata": {
        "colab": {
          "base_uri": "https://localhost:8080/"
        },
        "id": "P19bknPxT1zK",
        "outputId": "07918d9e-f8af-4d4c-a5a9-bdc0ad2b9fc3"
      },
      "source": [
        "data.groupBy('Gender').count().show()"
      ],
      "execution_count": 16,
      "outputs": [
        {
          "output_type": "stream",
          "text": [
            "+------+-------+\n",
            "|Gender|  count|\n",
            "+------+-------+\n",
            "|     F|2501132|\n",
            "|     M|2498868|\n",
            "+------+-------+\n",
            "\n"
          ],
          "name": "stdout"
        }
      ]
    },
    {
      "cell_type": "code",
      "metadata": {
        "colab": {
          "base_uri": "https://localhost:8080/"
        },
        "id": "FuEfUaYBW5lm",
        "outputId": "669bb0ab-dad7-44eb-a4c9-e1fabb4b377b"
      },
      "source": [
        "data.printSchema()"
      ],
      "execution_count": null,
      "outputs": [
        {
          "output_type": "stream",
          "text": [
            "root\n",
            " |-- Emp ID: integer (nullable = true)\n",
            " |-- Name Prefix: string (nullable = true)\n",
            " |-- First Name: string (nullable = true)\n",
            " |-- Middle Initial: string (nullable = true)\n",
            " |-- Last Name: string (nullable = true)\n",
            " |-- Gender: string (nullable = true)\n",
            " |-- E Mail: string (nullable = true)\n",
            " |-- Father's Name: string (nullable = true)\n",
            " |-- Mother's Name: string (nullable = true)\n",
            " |-- Mother's Maiden Name: string (nullable = true)\n",
            " |-- Date of Birth: string (nullable = true)\n",
            " |-- Time of Birth: string (nullable = true)\n",
            " |-- Age in Yrs.: double (nullable = true)\n",
            " |-- Weight in Kgs.: integer (nullable = true)\n",
            " |-- Date of Joining: string (nullable = true)\n",
            " |-- Quarter of Joining: string (nullable = true)\n",
            " |-- Half of Joining: string (nullable = true)\n",
            " |-- Year of Joining: integer (nullable = true)\n",
            " |-- Month of Joining: integer (nullable = true)\n",
            " |-- Month Name of Joining: string (nullable = true)\n",
            " |-- Short Month: string (nullable = true)\n",
            " |-- Day of Joining: integer (nullable = true)\n",
            " |-- DOW of Joining: string (nullable = true)\n",
            " |-- Short DOW: string (nullable = true)\n",
            " |-- Age in Company (Years): double (nullable = true)\n",
            " |-- Salary: integer (nullable = true)\n",
            " |-- Last % Hike: string (nullable = true)\n",
            " |-- SSN: string (nullable = true)\n",
            " |-- Phone No. : string (nullable = true)\n",
            " |-- Place Name: string (nullable = true)\n",
            " |-- County: string (nullable = true)\n",
            " |-- City: string (nullable = true)\n",
            " |-- State: string (nullable = true)\n",
            " |-- Zip: integer (nullable = true)\n",
            " |-- Region: string (nullable = true)\n",
            " |-- User Name: string (nullable = true)\n",
            " |-- Password: string (nullable = true)\n",
            "\n"
          ],
          "name": "stdout"
        }
      ]
    },
    {
      "cell_type": "code",
      "metadata": {
        "colab": {
          "base_uri": "https://localhost:8080/"
        },
        "id": "SVJqMyH1frs9",
        "outputId": "709f4bf6-e107-42b3-d644-d0f1312c010c"
      },
      "source": [
        "data = data.withColumnRenamed('Name Prefix', 'Name_Prefix')\n",
        "data = data.withColumnRenamed('First Name', 'First_Name')\n",
        "data = data.withColumnRenamed('Last Name', 'Last_Name')\n",
        "data = data.withColumnRenamed('E Mail', 'Email')\n",
        "data = data.withColumnRenamed('Date of Birth', 'Date_of_Birth')\n",
        "data = data.withColumnRenamed('Age in Yrs.', 'Age')\n",
        "data = data.withColumnRenamed('Age in Company (Years)', 'Age_in_Company_Years')\n",
        "data = data.withColumnRenamed('Phone No. ', 'Phone_no')\n",
        "data = data.withColumnRenamed('Place Name', 'Place_Name')\n",
        "data = data.withColumnRenamed('User Name', 'User_Name')\n",
        "data = data.withColumnRenamed('Total Cost', 'Total_Cost')\n",
        "data.show()"
      ],
      "execution_count": 9,
      "outputs": [
        {
          "output_type": "stream",
          "text": [
            "+------+-----------+----------+--------------+---------+------+--------------------+----------------+------------------+--------------------+-------------+-------------+-----+--------------+---------------+------------------+---------------+---------------+----------------+---------------------+-----------+--------------+--------------+---------+--------------------+------+-----------+-----------+------------+-------------+--------------------+-------------+-----+-----+---------+-----------+---------------+\n",
            "|Emp ID|Name_Prefix|First_Name|Middle Initial|Last_Name|Gender|               Email|   Father's Name|     Mother's Name|Mother's Maiden Name|Date_of_Birth|Time of Birth|  Age|Weight in Kgs.|Date of Joining|Quarter of Joining|Half of Joining|Year of Joining|Month of Joining|Month Name of Joining|Short Month|Day of Joining|DOW of Joining|Short DOW|Age_in_Company_Years|Salary|Last % Hike|        SSN|    Phone_no|   Place_Name|              County|         City|State|  Zip|   Region|  User_Name|       Password|\n",
            "+------+-----------+----------+--------------+---------+------+--------------------+----------------+------------------+--------------------+-------------+-------------+-----+--------------+---------------+------------------+---------------+---------------+----------------+---------------------+-----------+--------------+--------------+---------+--------------------+------+-----------+-----------+------------+-------------+--------------------+-------------+-----+-----+---------+-----------+---------------+\n",
            "|742048|       Drs.|    Lizeth|             P|   Mccoll|     F|lizeth.mccoll@ibm...|   Renato Mccoll|     Serena Mccoll|             Broxton|     7/5/1973|  08:14:43 AM|47.19|            49|       1/7/1995|                Q1|             H1|           1995|               1|              January|        Jan|             7|      Saturday|      Sat|               25.67|147446|        14%|171-86-6830|216-703-2865|     Alliance|               Stark|     Alliance|   OH|44601|  Midwest|   lpmccoll|     b5CDsd1Mz.|\n",
            "|671135|        Ms.| Argentina|             O|     Hern|     F|argentina.hern@nt...|       Earl Hern|      Chrissy Hern|              Tapley|   10/15/1962|  02:08:22 AM|57.92|            53|       4/1/1986|                Q2|             H1|           1986|               4|                April|        Apr|             1|       Tuesday|      Tue|               34.44|129174|         8%|083-02-3078|202-572-0136|   Washington|District of Columbia|   Washington|   DC|20411|    South|     aohern| vsUv&nFc?lM|2-|\n",
            "|965851|        Mr.|    Damian|             N|  Patillo|     M|damian.patillo@ou...|  Harley Patillo|   Lucinda Patillo|               Etter|    3/11/1975|  07:48:45 PM|45.51|            84|     12/16/2004|                Q4|             H2|           2004|              12|             December|        Dec|            16|      Thursday|      Thu|               15.72|158746|         8%|326-11-9852|209-784-3915|       Burrel|              Fresno|       Burrel|   CA|93607|     West|  dnpatillo|   GQj^c:4#B:F8|\n",
            "|224660|       Drs.|   Imogene|             P| Hagopian|     F|imogene.hagopian@...| Delmar Hagopian| Carolina Hagopian|             Lockett|    2/19/1995|  03:15:09 PM|25.55|            52|       6/8/2017|                Q2|             H1|           2017|               6|                 June|        Jun|             8|      Thursday|      Thu|                3.23| 55761|        14%|656-36-0772|210-460-6327|        Bryan|              Brazos|        Bryan|   TX|77806|    South| iphagopian|     d[aHK7aiH&|\n",
            "|852694|        Mr.|    Walker|             E|  Wallach|     M|walker.wallach@ao...|    Gale Wallach|Georgianna Wallach|           Creekmore|     8/5/1992|  01:03:46 PM|28.09|            50|      2/28/2020|                Q1|             H1|           2020|               2|             February|        Feb|            28|        Friday|      Fri|                0.51|197519|        24%|296-15-3535|225-846-1969|     Newllano|              Vernon|     Newllano|   LA|71461|    South|  wewallach|       kM\\7h*}7|\n",
            "|144102|        Ms.|  Jesusita|             W|   Hollie|     F|jesusita.hollie@h...|  Clement Hollie|      Nilda Hollie|              Barone|   10/30/1987|  04:55:43 AM|32.86|            49|       3/5/2015|                Q1|             H1|           2015|               3|                March|        Mar|             5|      Thursday|      Thu|                 5.5|103839|         6%|375-37-3861|209-219-5562|      Topanga|         Los Angeles|      Topanga|   CA|90290|     West|   jwhollie|       p1-G0\\b~|\n",
            "|687793|        Mr.|    Fausto|             P|  Esqueda|     M|fausto.esqueda@ao...|  Randal Esqueda|      Yang Esqueda|             Cullens|    4/23/1971|  10:25:52 AM|49.39|            75|     10/29/1998|                Q4|             H2|           1998|              10|              October|        Oct|            29|      Thursday|      Thu|               21.85| 60101|         5%|095-02-0857|216-722-2112|    Somerdale|          Tuscarawas|    Somerdale|   OH|44678|  Midwest|  fpesqueda| lX!iJCJF@[f-/F|\n",
            "|636308|       Mrs.|     Vanda|             S|    Komar|     F| vanda.komar@aol.com|     Carlo Komar|       Katia Komar|            Almanzar|     9/2/1962|  02:52:40 AM|58.04|            52|      7/25/2018|                Q3|             H2|           2018|               7|                 July|        Jul|            25|     Wednesday|      Wed|                 2.1|115639|        26%|002-11-5408|216-224-9563|        Akron|              Summit|        Akron|   OH|44312|  Midwest|    vskomar|I0!gVO~XFHG0\\9q|\n",
            "|218660|       Mrs.|   Destiny|             A|Nicholson|     F|destiny.nicholson...| Ramon Nicholson|  Tanika Nicholson|             Schauer|     7/1/1995|  01:58:42 PM|25.19|            54|     11/22/2016|                Q4|             H2|           2016|              11|             November|        Nov|            22|       Tuesday|      Tue|                3.78|126048|        19%|386-37-5628|201-997-3957|Atlantic City|            Atlantic|Atlantic City|   NJ| 8401|Northeast|danicholson|       s|?t/%X+|\n",
            "|465691|        Ms.|      Evie|             V|    Hamby|     F|evie.hamby@gmail.com|     Devin Hamby|      Jerica Hamby|                Plum|    6/22/1980|  12:17:42 AM|40.22|            60|      10/4/2013|                Q4|             H2|           2013|              10|              October|        Oct|             4|        Friday|      Fri|                6.91|193757|        28%|682-24-5946|201-331-7085|     Rockaway|              Morris|     Rockaway|   NJ| 7866|Northeast|    evhamby|       Xv7!P;xf|\n",
            "|242339|        Dr.|   Carlton|             G|Friedrich|     M|carlton.friedrich...| Tommy Friedrich|   Ricki Friedrich|                Camp|    10/7/1993|  12:05:46 AM|26.92|            64|      10/5/2016|                Q4|             H2|           2016|              10|              October|        Oct|             5|     Wednesday|      Wed|                3.91| 43826|        14%|717-18-8892|216-458-6650|   Cincinnati|            Hamilton|   Cincinnati|   OH|45202|  Midwest|cgfriedrich|     ROEj:i88Ov|\n",
            "|636949|        Mr.|   Carmelo|             A|   Haynie|     M|carmelo.haynie@gm...|    Mason Haynie|     Dorian Haynie|            Blessing|    3/19/1988|  01:02:33 PM|32.47|            83|      3/10/2015|                Q1|             H1|           2015|               3|                March|        Mar|            10|       Tuesday|      Tue|                5.48| 84036|         2%|529-99-1135|231-719-8915|       Howell|          Livingston|       Howell|   MI|48844|  Midwest|   cahaynie|     R^[haXId3H|\n",
            "|890565|        Ms.|      Bari|             K|   Troche|     F|bari.troche@hotma...|   Wilson Troche|    Madison Troche|              Imhoff|    6/12/1961|  12:10:42 PM|59.26|            40|       6/6/2006|                Q2|             H1|           2006|               6|                 June|        Jun|             6|       Tuesday|      Tue|               14.25|182148|        30%|479-41-7839|505-741-3868| Cochiti Lake|            Sandoval| Cochiti Lake|   NM|87083|     West|   bktroche|F}BQulqy[P@<Y8q|\n",
            "|206270|        Mr.|    Burton|             B|    Lowry|     M|burton.lowry@comc...|      Oren Lowry|      Fredda Lowry|             Goodwyn|    9/18/1987|  10:33:51 PM|32.98|            50|     10/29/2011|                Q4|             H2|           2011|              10|              October|        Oct|            29|      Saturday|      Sat|                8.85|181592|        26%|618-87-1917|215-747-2870|    Palmerton|              Carbon|    Palmerton|   PA|18071|Northeast|    bblowry|  k;B:j!?CkWb**|\n",
            "|418390|      Prof.|    Mickey|             Z|  Bassham|     M|mickey.bassham@gm...|    Deon Bassham|       Lan Bassham|             Buttler|    9/29/1997|  11:32:24 AM|22.94|            57|     12/19/2019|                Q4|             H2|           2019|              12|             December|        Dec|            19|      Thursday|      Thu|                 0.7|131922|        23%|186-86-7205|231-987-8818|   Lake Orion|             Oakland|   Lake Orion|   MI|48362|  Midwest|  mzbassham|BVT4u}~8f{;xl15|\n",
            "|359884|        Ms.|      Ying|             Y|  Cerrone|     F|ying.cerrone@aol.com|Benedict Cerrone|   Jeanett Cerrone|                Line|    3/19/1980|  08:03:52 AM|40.48|            53|      5/17/2012|                Q2|             H1|           2012|               5|                  May|        May|            17|      Thursday|      Thu|                 8.3|184946|         1%|083-02-7174|218-498-8798|         Iona|              Murray|         Iona|   MN|56141|  Midwest|  yycerrone|       Lx8ii-9U|\n",
            "|301840|       Mrs.|     Bette|             O|    Copas|     F|bette.copas@sbcgl...|    Rupert Copas|       Bette Copas|              Gerner|   11/12/1962|  07:20:25 AM|57.84|            55|      2/26/2000|                Q1|             H1|           2000|               2|             February|        Feb|            26|      Saturday|      Sat|               20.53|103833|        27%|124-98-3183|307-986-9240|    Hillsdale|             Laramie|    Hillsdale|   WY|82060|     West|    bocopas|   Fz-z~VtH9dfo|\n",
            "|232212|       Mrs.|      Tien|             W|   Harkey|     F| tien.harkey@cox.net|    Robin Harkey|   Carlotta Harkey|                Blas|     9/4/1998|  12:31:09 AM|22.01|            52|      5/26/2020|                Q2|             H1|           2020|               5|                  May|        May|            26|       Tuesday|      Tue|                0.27|103292|        10%|615-87-8886|209-433-3579|       Fresno|              Fresno|       Fresno|   CA|93782|     West|   twharkey| c/jI.a^K|[$}o#|\n",
            "|450156|        Ms.|      Loma|             S|  Chesney|     F|loma.chesney@yaho...|    Bret Chesney|     Viola Chesney|            Barnhill|    5/25/1963|  05:20:17 PM|57.31|            50|     11/14/1989|                Q4|             H2|           1989|              11|             November|        Nov|            14|       Tuesday|      Tue|               30.82| 66545|         7%|161-86-9824|205-930-2406|       Mobile|              Mobile|       Mobile|   AL|36602|    South|  lschesney|8U+<JTEXx&Q]R\\S|\n",
            "|158031|        Mr.|     Ruben|             K|   Pastor|     M|ruben.pastor@gmai...|Filiberto Pastor|       Dona Pastor|             Audette|   11/16/1993|  03:28:49 PM|26.81|            83|     11/20/2016|                Q4|             H2|           2016|              11|             November|        Nov|            20|        Sunday|      Sun|                3.78| 41892|         1%|768-02-9782|262-438-6125|    Cedarburg|             Ozaukee|    Cedarburg|   WI|53012|  Midwest|   rkpastor|      rk6{Wd|t%|\n",
            "+------+-----------+----------+--------------+---------+------+--------------------+----------------+------------------+--------------------+-------------+-------------+-----+--------------+---------------+------------------+---------------+---------------+----------------+---------------------+-----------+--------------+--------------+---------+--------------------+------+-----------+-----------+------------+-------------+--------------------+-------------+-----+-----+---------+-----------+---------------+\n",
            "only showing top 20 rows\n",
            "\n"
          ],
          "name": "stdout"
        }
      ]
    },
    {
      "cell_type": "code",
      "metadata": {
        "colab": {
          "base_uri": "https://localhost:8080/"
        },
        "id": "wdGND0Q3hoTa",
        "outputId": "8d809480-ab07-4add-e52d-c1f9018dc876"
      },
      "source": [
        "data.groupBy('County').count().show()"
      ],
      "execution_count": 10,
      "outputs": [
        {
          "output_type": "stream",
          "text": [
            "+--------------------+-----+\n",
            "|              County|count|\n",
            "+--------------------+-----+\n",
            "|               Bucks| 7697|\n",
            "|            Thurston| 2875|\n",
            "|             Palermo|  155|\n",
            "|           Worcester|13022|\n",
            "|              Grimes|  872|\n",
            "|               Tyler| 1740|\n",
            "|             Hanover| 1347|\n",
            "|                Utah| 2777|\n",
            "|      East Feliciana|  688|\n",
            "|              Aitkin|  918|\n",
            "|        Saint George|  109|\n",
            "|Skagway-Hoonah-An...|  995|\n",
            "|            Bluffton|  113|\n",
            "|           Petroleum|  258|\n",
            "|          Prattville|  118|\n",
            "|          Charleston| 4334|\n",
            "|               Izard| 1707|\n",
            "|              Hawaii| 3775|\n",
            "|               Pasco| 3564|\n",
            "|            Montcalm| 2052|\n",
            "+--------------------+-----+\n",
            "only showing top 20 rows\n",
            "\n"
          ],
          "name": "stdout"
        }
      ]
    },
    {
      "cell_type": "code",
      "metadata": {
        "colab": {
          "base_uri": "https://localhost:8080/"
        },
        "id": "1YyTD__jicnu",
        "outputId": "395780ef-68f2-4f85-dd70-6dd992acb1c1"
      },
      "source": [
        "data.groupBy('Age').count().show()"
      ],
      "execution_count": 11,
      "outputs": [
        {
          "output_type": "stream",
          "text": [
            "+-----+-----+\n",
            "|  Age|count|\n",
            "+-----+-----+\n",
            "|23.04| 1373|\n",
            "|45.43| 1051|\n",
            "|41.42| 1450|\n",
            "|35.17| 1051|\n",
            "|40.53| 1426|\n",
            "|50.74| 1097|\n",
            "|53.08| 1431|\n",
            "|37.81| 1361|\n",
            "|30.49| 1047|\n",
            "| 26.7| 1431|\n",
            "|38.61| 1393|\n",
            "|43.03| 1092|\n",
            "|46.15| 1393|\n",
            "|53.82| 1482|\n",
            "|26.72| 1411|\n",
            "| 49.8| 1024|\n",
            "|41.89| 1014|\n",
            "|58.51| 1054|\n",
            "|58.92| 1423|\n",
            "|40.11| 1045|\n",
            "+-----+-----+\n",
            "only showing top 20 rows\n",
            "\n"
          ],
          "name": "stdout"
        }
      ]
    },
    {
      "cell_type": "code",
      "metadata": {
        "colab": {
          "base_uri": "https://localhost:8080/"
        },
        "id": "OpnyNdutjevJ",
        "outputId": "fdc3c95c-ea64-4e58-ea5e-83cefc89ec9f"
      },
      "source": [
        "#Using regexp_replace. Replace \\..*$ with the empty string ''.\n",
        "#This expression finds the dot and replaces everything after that.\n",
        "from pyspark.sql.functions import *\n",
        "data.withColumn(\"Age\", regexp_replace('Age', '\\..*$', '')).show()"
      ],
      "execution_count": 12,
      "outputs": [
        {
          "output_type": "stream",
          "text": [
            "+------+-----------+----------+--------------+---------+------+--------------------+----------------+------------------+--------------------+-------------+-------------+---+--------------+---------------+------------------+---------------+---------------+----------------+---------------------+-----------+--------------+--------------+---------+--------------------+------+-----------+-----------+------------+-------------+--------------------+-------------+-----+-----+---------+-----------+---------------+\n",
            "|Emp ID|Name_Prefix|First_Name|Middle Initial|Last_Name|Gender|               Email|   Father's Name|     Mother's Name|Mother's Maiden Name|Date_of_Birth|Time of Birth|Age|Weight in Kgs.|Date of Joining|Quarter of Joining|Half of Joining|Year of Joining|Month of Joining|Month Name of Joining|Short Month|Day of Joining|DOW of Joining|Short DOW|Age_in_Company_Years|Salary|Last % Hike|        SSN|    Phone_no|   Place_Name|              County|         City|State|  Zip|   Region|  User_Name|       Password|\n",
            "+------+-----------+----------+--------------+---------+------+--------------------+----------------+------------------+--------------------+-------------+-------------+---+--------------+---------------+------------------+---------------+---------------+----------------+---------------------+-----------+--------------+--------------+---------+--------------------+------+-----------+-----------+------------+-------------+--------------------+-------------+-----+-----+---------+-----------+---------------+\n",
            "|742048|       Drs.|    Lizeth|             P|   Mccoll|     F|lizeth.mccoll@ibm...|   Renato Mccoll|     Serena Mccoll|             Broxton|     7/5/1973|  08:14:43 AM| 47|            49|       1/7/1995|                Q1|             H1|           1995|               1|              January|        Jan|             7|      Saturday|      Sat|               25.67|147446|        14%|171-86-6830|216-703-2865|     Alliance|               Stark|     Alliance|   OH|44601|  Midwest|   lpmccoll|     b5CDsd1Mz.|\n",
            "|671135|        Ms.| Argentina|             O|     Hern|     F|argentina.hern@nt...|       Earl Hern|      Chrissy Hern|              Tapley|   10/15/1962|  02:08:22 AM| 57|            53|       4/1/1986|                Q2|             H1|           1986|               4|                April|        Apr|             1|       Tuesday|      Tue|               34.44|129174|         8%|083-02-3078|202-572-0136|   Washington|District of Columbia|   Washington|   DC|20411|    South|     aohern| vsUv&nFc?lM|2-|\n",
            "|965851|        Mr.|    Damian|             N|  Patillo|     M|damian.patillo@ou...|  Harley Patillo|   Lucinda Patillo|               Etter|    3/11/1975|  07:48:45 PM| 45|            84|     12/16/2004|                Q4|             H2|           2004|              12|             December|        Dec|            16|      Thursday|      Thu|               15.72|158746|         8%|326-11-9852|209-784-3915|       Burrel|              Fresno|       Burrel|   CA|93607|     West|  dnpatillo|   GQj^c:4#B:F8|\n",
            "|224660|       Drs.|   Imogene|             P| Hagopian|     F|imogene.hagopian@...| Delmar Hagopian| Carolina Hagopian|             Lockett|    2/19/1995|  03:15:09 PM| 25|            52|       6/8/2017|                Q2|             H1|           2017|               6|                 June|        Jun|             8|      Thursday|      Thu|                3.23| 55761|        14%|656-36-0772|210-460-6327|        Bryan|              Brazos|        Bryan|   TX|77806|    South| iphagopian|     d[aHK7aiH&|\n",
            "|852694|        Mr.|    Walker|             E|  Wallach|     M|walker.wallach@ao...|    Gale Wallach|Georgianna Wallach|           Creekmore|     8/5/1992|  01:03:46 PM| 28|            50|      2/28/2020|                Q1|             H1|           2020|               2|             February|        Feb|            28|        Friday|      Fri|                0.51|197519|        24%|296-15-3535|225-846-1969|     Newllano|              Vernon|     Newllano|   LA|71461|    South|  wewallach|       kM\\7h*}7|\n",
            "|144102|        Ms.|  Jesusita|             W|   Hollie|     F|jesusita.hollie@h...|  Clement Hollie|      Nilda Hollie|              Barone|   10/30/1987|  04:55:43 AM| 32|            49|       3/5/2015|                Q1|             H1|           2015|               3|                March|        Mar|             5|      Thursday|      Thu|                 5.5|103839|         6%|375-37-3861|209-219-5562|      Topanga|         Los Angeles|      Topanga|   CA|90290|     West|   jwhollie|       p1-G0\\b~|\n",
            "|687793|        Mr.|    Fausto|             P|  Esqueda|     M|fausto.esqueda@ao...|  Randal Esqueda|      Yang Esqueda|             Cullens|    4/23/1971|  10:25:52 AM| 49|            75|     10/29/1998|                Q4|             H2|           1998|              10|              October|        Oct|            29|      Thursday|      Thu|               21.85| 60101|         5%|095-02-0857|216-722-2112|    Somerdale|          Tuscarawas|    Somerdale|   OH|44678|  Midwest|  fpesqueda| lX!iJCJF@[f-/F|\n",
            "|636308|       Mrs.|     Vanda|             S|    Komar|     F| vanda.komar@aol.com|     Carlo Komar|       Katia Komar|            Almanzar|     9/2/1962|  02:52:40 AM| 58|            52|      7/25/2018|                Q3|             H2|           2018|               7|                 July|        Jul|            25|     Wednesday|      Wed|                 2.1|115639|        26%|002-11-5408|216-224-9563|        Akron|              Summit|        Akron|   OH|44312|  Midwest|    vskomar|I0!gVO~XFHG0\\9q|\n",
            "|218660|       Mrs.|   Destiny|             A|Nicholson|     F|destiny.nicholson...| Ramon Nicholson|  Tanika Nicholson|             Schauer|     7/1/1995|  01:58:42 PM| 25|            54|     11/22/2016|                Q4|             H2|           2016|              11|             November|        Nov|            22|       Tuesday|      Tue|                3.78|126048|        19%|386-37-5628|201-997-3957|Atlantic City|            Atlantic|Atlantic City|   NJ| 8401|Northeast|danicholson|       s|?t/%X+|\n",
            "|465691|        Ms.|      Evie|             V|    Hamby|     F|evie.hamby@gmail.com|     Devin Hamby|      Jerica Hamby|                Plum|    6/22/1980|  12:17:42 AM| 40|            60|      10/4/2013|                Q4|             H2|           2013|              10|              October|        Oct|             4|        Friday|      Fri|                6.91|193757|        28%|682-24-5946|201-331-7085|     Rockaway|              Morris|     Rockaway|   NJ| 7866|Northeast|    evhamby|       Xv7!P;xf|\n",
            "|242339|        Dr.|   Carlton|             G|Friedrich|     M|carlton.friedrich...| Tommy Friedrich|   Ricki Friedrich|                Camp|    10/7/1993|  12:05:46 AM| 26|            64|      10/5/2016|                Q4|             H2|           2016|              10|              October|        Oct|             5|     Wednesday|      Wed|                3.91| 43826|        14%|717-18-8892|216-458-6650|   Cincinnati|            Hamilton|   Cincinnati|   OH|45202|  Midwest|cgfriedrich|     ROEj:i88Ov|\n",
            "|636949|        Mr.|   Carmelo|             A|   Haynie|     M|carmelo.haynie@gm...|    Mason Haynie|     Dorian Haynie|            Blessing|    3/19/1988|  01:02:33 PM| 32|            83|      3/10/2015|                Q1|             H1|           2015|               3|                March|        Mar|            10|       Tuesday|      Tue|                5.48| 84036|         2%|529-99-1135|231-719-8915|       Howell|          Livingston|       Howell|   MI|48844|  Midwest|   cahaynie|     R^[haXId3H|\n",
            "|890565|        Ms.|      Bari|             K|   Troche|     F|bari.troche@hotma...|   Wilson Troche|    Madison Troche|              Imhoff|    6/12/1961|  12:10:42 PM| 59|            40|       6/6/2006|                Q2|             H1|           2006|               6|                 June|        Jun|             6|       Tuesday|      Tue|               14.25|182148|        30%|479-41-7839|505-741-3868| Cochiti Lake|            Sandoval| Cochiti Lake|   NM|87083|     West|   bktroche|F}BQulqy[P@<Y8q|\n",
            "|206270|        Mr.|    Burton|             B|    Lowry|     M|burton.lowry@comc...|      Oren Lowry|      Fredda Lowry|             Goodwyn|    9/18/1987|  10:33:51 PM| 32|            50|     10/29/2011|                Q4|             H2|           2011|              10|              October|        Oct|            29|      Saturday|      Sat|                8.85|181592|        26%|618-87-1917|215-747-2870|    Palmerton|              Carbon|    Palmerton|   PA|18071|Northeast|    bblowry|  k;B:j!?CkWb**|\n",
            "|418390|      Prof.|    Mickey|             Z|  Bassham|     M|mickey.bassham@gm...|    Deon Bassham|       Lan Bassham|             Buttler|    9/29/1997|  11:32:24 AM| 22|            57|     12/19/2019|                Q4|             H2|           2019|              12|             December|        Dec|            19|      Thursday|      Thu|                 0.7|131922|        23%|186-86-7205|231-987-8818|   Lake Orion|             Oakland|   Lake Orion|   MI|48362|  Midwest|  mzbassham|BVT4u}~8f{;xl15|\n",
            "|359884|        Ms.|      Ying|             Y|  Cerrone|     F|ying.cerrone@aol.com|Benedict Cerrone|   Jeanett Cerrone|                Line|    3/19/1980|  08:03:52 AM| 40|            53|      5/17/2012|                Q2|             H1|           2012|               5|                  May|        May|            17|      Thursday|      Thu|                 8.3|184946|         1%|083-02-7174|218-498-8798|         Iona|              Murray|         Iona|   MN|56141|  Midwest|  yycerrone|       Lx8ii-9U|\n",
            "|301840|       Mrs.|     Bette|             O|    Copas|     F|bette.copas@sbcgl...|    Rupert Copas|       Bette Copas|              Gerner|   11/12/1962|  07:20:25 AM| 57|            55|      2/26/2000|                Q1|             H1|           2000|               2|             February|        Feb|            26|      Saturday|      Sat|               20.53|103833|        27%|124-98-3183|307-986-9240|    Hillsdale|             Laramie|    Hillsdale|   WY|82060|     West|    bocopas|   Fz-z~VtH9dfo|\n",
            "|232212|       Mrs.|      Tien|             W|   Harkey|     F| tien.harkey@cox.net|    Robin Harkey|   Carlotta Harkey|                Blas|     9/4/1998|  12:31:09 AM| 22|            52|      5/26/2020|                Q2|             H1|           2020|               5|                  May|        May|            26|       Tuesday|      Tue|                0.27|103292|        10%|615-87-8886|209-433-3579|       Fresno|              Fresno|       Fresno|   CA|93782|     West|   twharkey| c/jI.a^K|[$}o#|\n",
            "|450156|        Ms.|      Loma|             S|  Chesney|     F|loma.chesney@yaho...|    Bret Chesney|     Viola Chesney|            Barnhill|    5/25/1963|  05:20:17 PM| 57|            50|     11/14/1989|                Q4|             H2|           1989|              11|             November|        Nov|            14|       Tuesday|      Tue|               30.82| 66545|         7%|161-86-9824|205-930-2406|       Mobile|              Mobile|       Mobile|   AL|36602|    South|  lschesney|8U+<JTEXx&Q]R\\S|\n",
            "|158031|        Mr.|     Ruben|             K|   Pastor|     M|ruben.pastor@gmai...|Filiberto Pastor|       Dona Pastor|             Audette|   11/16/1993|  03:28:49 PM| 26|            83|     11/20/2016|                Q4|             H2|           2016|              11|             November|        Nov|            20|        Sunday|      Sun|                3.78| 41892|         1%|768-02-9782|262-438-6125|    Cedarburg|             Ozaukee|    Cedarburg|   WI|53012|  Midwest|   rkpastor|      rk6{Wd|t%|\n",
            "+------+-----------+----------+--------------+---------+------+--------------------+----------------+------------------+--------------------+-------------+-------------+---+--------------+---------------+------------------+---------------+---------------+----------------+---------------------+-----------+--------------+--------------+---------+--------------------+------+-----------+-----------+------------+-------------+--------------------+-------------+-----+-----+---------+-----------+---------------+\n",
            "only showing top 20 rows\n",
            "\n"
          ],
          "name": "stdout"
        }
      ]
    },
    {
      "cell_type": "code",
      "metadata": {
        "colab": {
          "base_uri": "https://localhost:8080/"
        },
        "id": "boxuberlzRMj",
        "outputId": "af1bc3f4-3153-4afb-d66d-0bcadebc4642"
      },
      "source": [
        "data.show()"
      ],
      "execution_count": 13,
      "outputs": [
        {
          "output_type": "stream",
          "text": [
            "+------+-----------+----------+--------------+---------+------+--------------------+----------------+------------------+--------------------+-------------+-------------+-----+--------------+---------------+------------------+---------------+---------------+----------------+---------------------+-----------+--------------+--------------+---------+--------------------+------+-----------+-----------+------------+-------------+--------------------+-------------+-----+-----+---------+-----------+---------------+\n",
            "|Emp ID|Name_Prefix|First_Name|Middle Initial|Last_Name|Gender|               Email|   Father's Name|     Mother's Name|Mother's Maiden Name|Date_of_Birth|Time of Birth|  Age|Weight in Kgs.|Date of Joining|Quarter of Joining|Half of Joining|Year of Joining|Month of Joining|Month Name of Joining|Short Month|Day of Joining|DOW of Joining|Short DOW|Age_in_Company_Years|Salary|Last % Hike|        SSN|    Phone_no|   Place_Name|              County|         City|State|  Zip|   Region|  User_Name|       Password|\n",
            "+------+-----------+----------+--------------+---------+------+--------------------+----------------+------------------+--------------------+-------------+-------------+-----+--------------+---------------+------------------+---------------+---------------+----------------+---------------------+-----------+--------------+--------------+---------+--------------------+------+-----------+-----------+------------+-------------+--------------------+-------------+-----+-----+---------+-----------+---------------+\n",
            "|742048|       Drs.|    Lizeth|             P|   Mccoll|     F|lizeth.mccoll@ibm...|   Renato Mccoll|     Serena Mccoll|             Broxton|     7/5/1973|  08:14:43 AM|47.19|            49|       1/7/1995|                Q1|             H1|           1995|               1|              January|        Jan|             7|      Saturday|      Sat|               25.67|147446|        14%|171-86-6830|216-703-2865|     Alliance|               Stark|     Alliance|   OH|44601|  Midwest|   lpmccoll|     b5CDsd1Mz.|\n",
            "|671135|        Ms.| Argentina|             O|     Hern|     F|argentina.hern@nt...|       Earl Hern|      Chrissy Hern|              Tapley|   10/15/1962|  02:08:22 AM|57.92|            53|       4/1/1986|                Q2|             H1|           1986|               4|                April|        Apr|             1|       Tuesday|      Tue|               34.44|129174|         8%|083-02-3078|202-572-0136|   Washington|District of Columbia|   Washington|   DC|20411|    South|     aohern| vsUv&nFc?lM|2-|\n",
            "|965851|        Mr.|    Damian|             N|  Patillo|     M|damian.patillo@ou...|  Harley Patillo|   Lucinda Patillo|               Etter|    3/11/1975|  07:48:45 PM|45.51|            84|     12/16/2004|                Q4|             H2|           2004|              12|             December|        Dec|            16|      Thursday|      Thu|               15.72|158746|         8%|326-11-9852|209-784-3915|       Burrel|              Fresno|       Burrel|   CA|93607|     West|  dnpatillo|   GQj^c:4#B:F8|\n",
            "|224660|       Drs.|   Imogene|             P| Hagopian|     F|imogene.hagopian@...| Delmar Hagopian| Carolina Hagopian|             Lockett|    2/19/1995|  03:15:09 PM|25.55|            52|       6/8/2017|                Q2|             H1|           2017|               6|                 June|        Jun|             8|      Thursday|      Thu|                3.23| 55761|        14%|656-36-0772|210-460-6327|        Bryan|              Brazos|        Bryan|   TX|77806|    South| iphagopian|     d[aHK7aiH&|\n",
            "|852694|        Mr.|    Walker|             E|  Wallach|     M|walker.wallach@ao...|    Gale Wallach|Georgianna Wallach|           Creekmore|     8/5/1992|  01:03:46 PM|28.09|            50|      2/28/2020|                Q1|             H1|           2020|               2|             February|        Feb|            28|        Friday|      Fri|                0.51|197519|        24%|296-15-3535|225-846-1969|     Newllano|              Vernon|     Newllano|   LA|71461|    South|  wewallach|       kM\\7h*}7|\n",
            "|144102|        Ms.|  Jesusita|             W|   Hollie|     F|jesusita.hollie@h...|  Clement Hollie|      Nilda Hollie|              Barone|   10/30/1987|  04:55:43 AM|32.86|            49|       3/5/2015|                Q1|             H1|           2015|               3|                March|        Mar|             5|      Thursday|      Thu|                 5.5|103839|         6%|375-37-3861|209-219-5562|      Topanga|         Los Angeles|      Topanga|   CA|90290|     West|   jwhollie|       p1-G0\\b~|\n",
            "|687793|        Mr.|    Fausto|             P|  Esqueda|     M|fausto.esqueda@ao...|  Randal Esqueda|      Yang Esqueda|             Cullens|    4/23/1971|  10:25:52 AM|49.39|            75|     10/29/1998|                Q4|             H2|           1998|              10|              October|        Oct|            29|      Thursday|      Thu|               21.85| 60101|         5%|095-02-0857|216-722-2112|    Somerdale|          Tuscarawas|    Somerdale|   OH|44678|  Midwest|  fpesqueda| lX!iJCJF@[f-/F|\n",
            "|636308|       Mrs.|     Vanda|             S|    Komar|     F| vanda.komar@aol.com|     Carlo Komar|       Katia Komar|            Almanzar|     9/2/1962|  02:52:40 AM|58.04|            52|      7/25/2018|                Q3|             H2|           2018|               7|                 July|        Jul|            25|     Wednesday|      Wed|                 2.1|115639|        26%|002-11-5408|216-224-9563|        Akron|              Summit|        Akron|   OH|44312|  Midwest|    vskomar|I0!gVO~XFHG0\\9q|\n",
            "|218660|       Mrs.|   Destiny|             A|Nicholson|     F|destiny.nicholson...| Ramon Nicholson|  Tanika Nicholson|             Schauer|     7/1/1995|  01:58:42 PM|25.19|            54|     11/22/2016|                Q4|             H2|           2016|              11|             November|        Nov|            22|       Tuesday|      Tue|                3.78|126048|        19%|386-37-5628|201-997-3957|Atlantic City|            Atlantic|Atlantic City|   NJ| 8401|Northeast|danicholson|       s|?t/%X+|\n",
            "|465691|        Ms.|      Evie|             V|    Hamby|     F|evie.hamby@gmail.com|     Devin Hamby|      Jerica Hamby|                Plum|    6/22/1980|  12:17:42 AM|40.22|            60|      10/4/2013|                Q4|             H2|           2013|              10|              October|        Oct|             4|        Friday|      Fri|                6.91|193757|        28%|682-24-5946|201-331-7085|     Rockaway|              Morris|     Rockaway|   NJ| 7866|Northeast|    evhamby|       Xv7!P;xf|\n",
            "|242339|        Dr.|   Carlton|             G|Friedrich|     M|carlton.friedrich...| Tommy Friedrich|   Ricki Friedrich|                Camp|    10/7/1993|  12:05:46 AM|26.92|            64|      10/5/2016|                Q4|             H2|           2016|              10|              October|        Oct|             5|     Wednesday|      Wed|                3.91| 43826|        14%|717-18-8892|216-458-6650|   Cincinnati|            Hamilton|   Cincinnati|   OH|45202|  Midwest|cgfriedrich|     ROEj:i88Ov|\n",
            "|636949|        Mr.|   Carmelo|             A|   Haynie|     M|carmelo.haynie@gm...|    Mason Haynie|     Dorian Haynie|            Blessing|    3/19/1988|  01:02:33 PM|32.47|            83|      3/10/2015|                Q1|             H1|           2015|               3|                March|        Mar|            10|       Tuesday|      Tue|                5.48| 84036|         2%|529-99-1135|231-719-8915|       Howell|          Livingston|       Howell|   MI|48844|  Midwest|   cahaynie|     R^[haXId3H|\n",
            "|890565|        Ms.|      Bari|             K|   Troche|     F|bari.troche@hotma...|   Wilson Troche|    Madison Troche|              Imhoff|    6/12/1961|  12:10:42 PM|59.26|            40|       6/6/2006|                Q2|             H1|           2006|               6|                 June|        Jun|             6|       Tuesday|      Tue|               14.25|182148|        30%|479-41-7839|505-741-3868| Cochiti Lake|            Sandoval| Cochiti Lake|   NM|87083|     West|   bktroche|F}BQulqy[P@<Y8q|\n",
            "|206270|        Mr.|    Burton|             B|    Lowry|     M|burton.lowry@comc...|      Oren Lowry|      Fredda Lowry|             Goodwyn|    9/18/1987|  10:33:51 PM|32.98|            50|     10/29/2011|                Q4|             H2|           2011|              10|              October|        Oct|            29|      Saturday|      Sat|                8.85|181592|        26%|618-87-1917|215-747-2870|    Palmerton|              Carbon|    Palmerton|   PA|18071|Northeast|    bblowry|  k;B:j!?CkWb**|\n",
            "|418390|      Prof.|    Mickey|             Z|  Bassham|     M|mickey.bassham@gm...|    Deon Bassham|       Lan Bassham|             Buttler|    9/29/1997|  11:32:24 AM|22.94|            57|     12/19/2019|                Q4|             H2|           2019|              12|             December|        Dec|            19|      Thursday|      Thu|                 0.7|131922|        23%|186-86-7205|231-987-8818|   Lake Orion|             Oakland|   Lake Orion|   MI|48362|  Midwest|  mzbassham|BVT4u}~8f{;xl15|\n",
            "|359884|        Ms.|      Ying|             Y|  Cerrone|     F|ying.cerrone@aol.com|Benedict Cerrone|   Jeanett Cerrone|                Line|    3/19/1980|  08:03:52 AM|40.48|            53|      5/17/2012|                Q2|             H1|           2012|               5|                  May|        May|            17|      Thursday|      Thu|                 8.3|184946|         1%|083-02-7174|218-498-8798|         Iona|              Murray|         Iona|   MN|56141|  Midwest|  yycerrone|       Lx8ii-9U|\n",
            "|301840|       Mrs.|     Bette|             O|    Copas|     F|bette.copas@sbcgl...|    Rupert Copas|       Bette Copas|              Gerner|   11/12/1962|  07:20:25 AM|57.84|            55|      2/26/2000|                Q1|             H1|           2000|               2|             February|        Feb|            26|      Saturday|      Sat|               20.53|103833|        27%|124-98-3183|307-986-9240|    Hillsdale|             Laramie|    Hillsdale|   WY|82060|     West|    bocopas|   Fz-z~VtH9dfo|\n",
            "|232212|       Mrs.|      Tien|             W|   Harkey|     F| tien.harkey@cox.net|    Robin Harkey|   Carlotta Harkey|                Blas|     9/4/1998|  12:31:09 AM|22.01|            52|      5/26/2020|                Q2|             H1|           2020|               5|                  May|        May|            26|       Tuesday|      Tue|                0.27|103292|        10%|615-87-8886|209-433-3579|       Fresno|              Fresno|       Fresno|   CA|93782|     West|   twharkey| c/jI.a^K|[$}o#|\n",
            "|450156|        Ms.|      Loma|             S|  Chesney|     F|loma.chesney@yaho...|    Bret Chesney|     Viola Chesney|            Barnhill|    5/25/1963|  05:20:17 PM|57.31|            50|     11/14/1989|                Q4|             H2|           1989|              11|             November|        Nov|            14|       Tuesday|      Tue|               30.82| 66545|         7%|161-86-9824|205-930-2406|       Mobile|              Mobile|       Mobile|   AL|36602|    South|  lschesney|8U+<JTEXx&Q]R\\S|\n",
            "|158031|        Mr.|     Ruben|             K|   Pastor|     M|ruben.pastor@gmai...|Filiberto Pastor|       Dona Pastor|             Audette|   11/16/1993|  03:28:49 PM|26.81|            83|     11/20/2016|                Q4|             H2|           2016|              11|             November|        Nov|            20|        Sunday|      Sun|                3.78| 41892|         1%|768-02-9782|262-438-6125|    Cedarburg|             Ozaukee|    Cedarburg|   WI|53012|  Midwest|   rkpastor|      rk6{Wd|t%|\n",
            "+------+-----------+----------+--------------+---------+------+--------------------+----------------+------------------+--------------------+-------------+-------------+-----+--------------+---------------+------------------+---------------+---------------+----------------+---------------------+-----------+--------------+--------------+---------+--------------------+------+-----------+-----------+------------+-------------+--------------------+-------------+-----+-----+---------+-----------+---------------+\n",
            "only showing top 20 rows\n",
            "\n"
          ],
          "name": "stdout"
        }
      ]
    },
    {
      "cell_type": "code",
      "metadata": {
        "colab": {
          "base_uri": "https://localhost:8080/"
        },
        "id": "c5zRIa3Syjn_",
        "outputId": "c87314fe-3786-4c3b-d8e3-5b7cf56cbb31"
      },
      "source": [
        "data.filter(data['Age']<=21).show()"
      ],
      "execution_count": 14,
      "outputs": [
        {
          "output_type": "stream",
          "text": [
            "+------+-----------+----------+--------------+----------+------+--------------------+-----------------+------------------+--------------------+-------------+-------------+----+--------------+---------------+------------------+---------------+---------------+----------------+---------------------+-----------+--------------+--------------+---------+--------------------+------+-----------+-----------+------------+-------------+--------------------+-------------+-----+-----+---------+------------+---------------+\n",
            "|Emp ID|Name_Prefix|First_Name|Middle Initial| Last_Name|Gender|               Email|    Father's Name|     Mother's Name|Mother's Maiden Name|Date_of_Birth|Time of Birth| Age|Weight in Kgs.|Date of Joining|Quarter of Joining|Half of Joining|Year of Joining|Month of Joining|Month Name of Joining|Short Month|Day of Joining|DOW of Joining|Short DOW|Age_in_Company_Years|Salary|Last % Hike|        SSN|    Phone_no|   Place_Name|              County|         City|State|  Zip|   Region|   User_Name|       Password|\n",
            "+------+-----------+----------+--------------+----------+------+--------------------+-----------------+------------------+--------------------+-------------+-------------+----+--------------+---------------+------------------+---------------+---------------+----------------+---------------------+-----------+--------------+--------------+---------+--------------------+------+-----------+-----------+------------+-------------+--------------------+-------------+-----+-----+---------+------------+---------------+\n",
            "|879555|        Mr.|      Herb|             H|      Welk|     M|herb.welk@outlook...|     Abraham Welk|     Michelle Welk|             Tamplin|     9/5/1999|  11:07:40 PM|21.0|            78|      8/30/2020|                Q3|             H2|           2020|               8|               August|        Aug|            30|        Sunday|      Sun|                 0.0|141103|         2%|430-99-2781|205-490-6505| Mount Vernon|              Mobile| Mount Vernon|   AL|36560|    South|      hhwelk|J~h@9k<3H1.X:*l|\n",
            "|185841|       Hon.|     Karey|             F|    Foshee|     F|karey.foshee@yaho...|   Rolando Foshee|    Dominga Foshee|            Urbaniak|     9/6/1999|  05:05:27 PM|21.0|            55|      8/31/2020|                Q3|             H2|           2020|               8|               August|        Aug|            31|        Monday|      Mon|                 0.0|121547|        27%|031-92-8986|217-679-1059|     Sandwich|              DeKalb|     Sandwich|   IL|60548|  Midwest|    kffoshee|       atowjIOj|\n",
            "|333556|        Ms.|    Akilah|             K|    Stroup|     F|akilah.stroup@gma...|    Hubert Stroup|   Migdalia Stroup|            Matherne|     9/5/1999|  01:36:01 AM|21.0|            40|      8/30/2020|                Q3|             H2|           2020|               8|               August|        Aug|            30|        Sunday|      Sun|                 0.0|129737|         9%|043-15-9369|210-754-4736|         Rice|               Ellis|         Rice|   TX|75155|    South|    akstroup|  d7C?Ia1Np4/^<|\n",
            "|635574|        Ms.|    Melina|             E| Mcfarland|     F|melina.mcfarland@...|   Cleo Mcfarland|  Ashton Mcfarland|               Logue|     9/6/1999|  01:16:11 AM|21.0|            58|      8/31/2020|                Q3|             H2|           2020|               8|               August|        Aug|            31|        Monday|      Mon|                 0.0|136249|        16%|583-99-2161|304-310-3329|     Maybeury|            McDowell|     Maybeury|   WV|24861|    South| memcfarland|     UVjsPkAi3N|\n",
            "|962713|        Dr.|     Abdul|             S|    Cumbie|     M|abdul.cumbie@gmai...|  Chadwick Cumbie| Jacquelyne Cumbie|                Alex|     9/6/1999|  11:49:30 AM|21.0|            83|      8/31/2020|                Q3|             H2|           2020|               8|               August|        Aug|            31|        Monday|      Mon|                 0.0|110642|         9%|443-27-1755|304-624-8124|      Spelter|            Harrison|      Spelter|   WV|26438|    South|    ascumbie|       92spVEot|\n",
            "|509420|       Hon.|     Aimee|             Z|Middendorf|     F|aimee.middendorf@...|  Levi Middendorf|Sachiko Middendorf|              Unknow|     9/6/1999|  01:33:05 AM|21.0|            58|      8/31/2020|                Q3|             H2|           2020|               8|               August|        Aug|            31|        Monday|      Mon|                 0.0|171979|         0%|342-11-2954|229-257-3791|      Musella|            Crawford|      Musella|   GA|31066|    South|azmiddendorf| jk^QkLY>w-:F+u|\n",
            "|978299|      Prof.|      Shad|             B|   Hulbert|     M|shad.hulbert@cox.net|   Leslie Hulbert|     Ayana Hulbert|                Rink|     9/6/1999|  06:29:00 AM|21.0|            73|      8/31/2020|                Q3|             H2|           2020|               8|               August|        Aug|            31|        Monday|      Mon|                 0.0|181260|         3%|278-17-7309|217-706-5705|      Ashland|                Cass|      Ashland|   IL|62612|  Midwest|   sbhulbert|       mfXWcP+_|\n",
            "|483927|        Mr.|   Alfonzo|             W|     Rorie|     M|alfonzo.rorie@aol...|     Leland Rorie|     Jeffrey Rorie|             Killian|     9/5/1999|  10:19:30 PM|21.0|            78|      8/31/2020|                Q3|             H2|           2020|               8|               August|        Aug|            31|        Monday|      Mon|                 0.0|116492|        21%|608-87-7467|202-304-0893|   Washington|District of Columbia|   Washington|   DC|20005|    South|     awrorie|t;A8KcT}/J$V|Z7|\n",
            "|388299|        Mr.|    Hilton|             H|Kirschbaum|     M|hilton.kirschbaum...| Major Kirschbaum|Ignacia Kirschbaum|                Sams|     9/5/1999|  05:25:18 PM|21.0|            69|      8/31/2020|                Q3|             H2|           2020|               8|               August|        Aug|            31|        Monday|      Mon|                 0.0| 42716|         0%|170-86-1435|228-986-7257|        Pearl|              Rankin|        Pearl|   MS|39288|    South|hhkirschbaum| BGUiUw2]zcS^KC|\n",
            "|274245|        Dr.|    Walton|             A| Rochester|     M|walton.rochester@...|   Dave Rochester| Aracely Rochester|             Dengler|     9/5/1999|  03:21:27 AM|21.0|            73|      8/31/2020|                Q3|             H2|           2020|               8|               August|        Aug|            31|        Monday|      Mon|                 0.0| 90975|        23%|764-29-8648|212-566-4039|   Amityville|             Suffolk|   Amityville|   NY|11701|Northeast| warochester|     Yksd5pND|/|\n",
            "|270355|        Mr.|     Clair|             U|  Pettaway|     M|clair.pettaway@be...|  Eliseo Pettaway|   Floria Pettaway|            Satchell|     9/6/1999|  09:40:59 PM|21.0|            69|      8/31/2020|                Q3|             H2|           2020|               8|               August|        Aug|            31|        Monday|      Mon|                 0.0|178323|         8%|164-86-3585|202-937-7646|   Washington|District of Columbia|   Washington|   DC|20523|    South|  cupettaway|     np89}F|2nD|\n",
            "|776208|        Mr.|     Jesse|             Y|    Buffum|     M|jesse.buffum@aol.com|    Rodney Buffum|       Zena Buffum|            Ferretti|     9/6/1999|  02:22:24 PM|21.0|            73|      8/31/2020|                Q3|             H2|           2020|               8|               August|        Aug|            31|        Monday|      Mon|                 0.0|185821|         9%|348-08-9537|603-800-5875|       Rumney|             Grafton|       Rumney|   NH| 3266|Northeast|    jybuffum|  pOQVJJ2S5Pp%J|\n",
            "|546002|       Hon.|     Brain|             T|  Fujimoto|     M|brain.fujimoto@gm...|Humberto Fujimoto|    Kitty Fujimoto|                Senn|     9/5/1999|  01:08:14 AM|21.0|            79|      8/31/2020|                Q3|             H2|           2020|               8|               August|        Aug|            31|        Monday|      Mon|                 0.0| 70243|        22%|723-18-3975|702-592-9186|    Las Vegas|               Clark|    Las Vegas|   NV|89113|     West|  btfujimoto|  mMYS:{<MJGV<[|\n",
            "|882096|       Mrs.|    Vinita|             D|    Schild|     F|vinita.schild@hot...|    Rafael Schild|       Dian Schild|               Valvo|     9/6/1999|  07:32:54 AM|21.0|            59|      8/31/2020|                Q3|             H2|           2020|               8|               August|        Aug|            31|        Monday|      Mon|                 0.0|190311|        12%|386-37-7867|308-558-4644|        Omaha|             Douglas|        Omaha|   NE|68110|  Midwest|    vdschild|       NaKbH99s|\n",
            "|373930|       Hon.|    Warren|             K|      Ames|     M|warren.ames@hotma...|     Cornell Ames|       Estell Ames|              Jasper|     9/6/1999|  05:39:07 AM|21.0|            78|      8/31/2020|                Q3|             H2|           2020|               8|               August|        Aug|            31|        Monday|      Mon|                 0.0|184388|        20%|469-57-5652|262-390-3592|   Galesville|         Trempealeau|   Galesville|   WI|54630|  Midwest|      wkames|    K;O_z|78+KY|\n",
            "|426183|       Drs.|  Sherlene|             Q| Battaglia|     F|sherlene.battagli...|Harland Battaglia|   Kecia Battaglia|          Carrington|     9/5/1999|  12:59:29 AM|21.0|            50|      8/30/2020|                Q3|             H2|           2020|               8|               August|        Aug|            30|        Sunday|      Sun|                 0.0|124340|        20%|557-99-6112|209-874-9633|San Francisco|       San Francisco|San Francisco|   CA|94158|     West| sqbattaglia|     bD#!5:uR4g|\n",
            "|825481|        Ms.|      Mana|             H|       Mar|     F|mana.mar@microsof...|       Roland Mar|          Emmy Mar|             Vicente|     9/5/1999|  10:47:37 PM|21.0|            55|      8/31/2020|                Q3|             H2|           2020|               8|               August|        Aug|            31|        Monday|      Mon|                 0.0|132425|         2%|487-29-7301|225-733-2496| Lake Charles|           Calcasieu| Lake Charles|   LA|70607|    South|       mhmar|     vk0lv%^-DW|\n",
            "|316138|        Mr.|Florentino|             Z|    Lomeli|     M|florentino.lomeli...|     Alton Lomeli|     Harold Lomeli|             Chauvin|     9/6/1999|  04:29:42 AM|21.0|            88|      8/31/2020|                Q3|             H2|           2020|               8|               August|        Aug|            31|        Monday|      Mon|                 0.0|145899|         9%|196-84-9382|406-235-5603|    Helmville|              Powell|    Helmville|   MT|59843|     West|    fzlomeli|TpiB8Yy[g#v+o*H|\n",
            "|462288|        Ms.|   Bethann|             F| Muldowney|     F|bethann.muldowney...|  Keith Muldowney|    Kyle Muldowney|            Nakayama|     9/5/1999|  06:53:00 PM|21.0|            51|      8/31/2020|                Q3|             H2|           2020|               8|               August|        Aug|            31|        Monday|      Mon|                 0.0|173495|         8%|024-92-9128|209-248-5668|     Somerset|           El Dorado|     Somerset|   CA|95684|     West| bfmuldowney|  Q%S#xd&^y##lH|\n",
            "|523188|       Mrs.|    Vanesa|             C| Treadwell|     F|vanesa.treadwell@...| Grover Treadwell| Towanda Treadwell|             Gouveia|     9/6/1999|  12:07:09 AM|21.0|            48|      8/31/2020|                Q3|             H2|           2020|               8|               August|        Aug|            31|        Monday|      Mon|                 0.0|114574|        28%|031-92-6203|206-285-3895|      Poulsbo|              Kitsap|      Poulsbo|   WA|98370|     West| vctreadwell|  Yfg6otmiz+c6e|\n",
            "+------+-----------+----------+--------------+----------+------+--------------------+-----------------+------------------+--------------------+-------------+-------------+----+--------------+---------------+------------------+---------------+---------------+----------------+---------------------+-----------+--------------+--------------+---------+--------------------+------+-----------+-----------+------------+-------------+--------------------+-------------+-----+-----+---------+------------+---------------+\n",
            "only showing top 20 rows\n",
            "\n"
          ],
          "name": "stdout"
        }
      ]
    },
    {
      "cell_type": "code",
      "metadata": {
        "colab": {
          "base_uri": "https://localhost:8080/"
        },
        "id": "4wp1mmYa09-J",
        "outputId": "3b5676b0-e670-4dfc-bb1a-56e48202e7ae"
      },
      "source": [
        "from pyspark.sql import functions as sf\n",
        "data = data.withColumn('Name',sf.concat(sf.col('First_Name'),sf.lit(' '), sf.col('Last_Name')))\n",
        "data.show()"
      ],
      "execution_count": 21,
      "outputs": [
        {
          "output_type": "stream",
          "text": [
            "+------+-----------+----------+--------------+---------+------+--------------------+----------------+------------------+--------------------+-------------+-------------+-----+--------------+---------------+------------------+---------------+---------------+----------------+---------------------+-----------+--------------+--------------+---------+--------------------+------+-----------+-----------+------------+-------------+--------------------+-------------+-----+-----+---------+-----------+---------------+-----------------+\n",
            "|Emp ID|Name_Prefix|First_Name|Middle Initial|Last_Name|Gender|               Email|   Father's Name|     Mother's Name|Mother's Maiden Name|Date_of_Birth|Time of Birth|  Age|Weight in Kgs.|Date of Joining|Quarter of Joining|Half of Joining|Year of Joining|Month of Joining|Month Name of Joining|Short Month|Day of Joining|DOW of Joining|Short DOW|Age_in_Company_Years|Salary|Last % Hike|        SSN|    Phone_no|   Place_Name|              County|         City|State|  Zip|   Region|  User_Name|       Password|             Name|\n",
            "+------+-----------+----------+--------------+---------+------+--------------------+----------------+------------------+--------------------+-------------+-------------+-----+--------------+---------------+------------------+---------------+---------------+----------------+---------------------+-----------+--------------+--------------+---------+--------------------+------+-----------+-----------+------------+-------------+--------------------+-------------+-----+-----+---------+-----------+---------------+-----------------+\n",
            "|742048|       Drs.|    Lizeth|             P|   Mccoll|     F|lizeth.mccoll@ibm...|   Renato Mccoll|     Serena Mccoll|             Broxton|     7/5/1973|  08:14:43 AM|47.19|            49|       1/7/1995|                Q1|             H1|           1995|               1|              January|        Jan|             7|      Saturday|      Sat|               25.67|147446|        14%|171-86-6830|216-703-2865|     Alliance|               Stark|     Alliance|   OH|44601|  Midwest|   lpmccoll|     b5CDsd1Mz.|    Lizeth Mccoll|\n",
            "|671135|        Ms.| Argentina|             O|     Hern|     F|argentina.hern@nt...|       Earl Hern|      Chrissy Hern|              Tapley|   10/15/1962|  02:08:22 AM|57.92|            53|       4/1/1986|                Q2|             H1|           1986|               4|                April|        Apr|             1|       Tuesday|      Tue|               34.44|129174|         8%|083-02-3078|202-572-0136|   Washington|District of Columbia|   Washington|   DC|20411|    South|     aohern| vsUv&nFc?lM|2-|   Argentina Hern|\n",
            "|965851|        Mr.|    Damian|             N|  Patillo|     M|damian.patillo@ou...|  Harley Patillo|   Lucinda Patillo|               Etter|    3/11/1975|  07:48:45 PM|45.51|            84|     12/16/2004|                Q4|             H2|           2004|              12|             December|        Dec|            16|      Thursday|      Thu|               15.72|158746|         8%|326-11-9852|209-784-3915|       Burrel|              Fresno|       Burrel|   CA|93607|     West|  dnpatillo|   GQj^c:4#B:F8|   Damian Patillo|\n",
            "|224660|       Drs.|   Imogene|             P| Hagopian|     F|imogene.hagopian@...| Delmar Hagopian| Carolina Hagopian|             Lockett|    2/19/1995|  03:15:09 PM|25.55|            52|       6/8/2017|                Q2|             H1|           2017|               6|                 June|        Jun|             8|      Thursday|      Thu|                3.23| 55761|        14%|656-36-0772|210-460-6327|        Bryan|              Brazos|        Bryan|   TX|77806|    South| iphagopian|     d[aHK7aiH&| Imogene Hagopian|\n",
            "|852694|        Mr.|    Walker|             E|  Wallach|     M|walker.wallach@ao...|    Gale Wallach|Georgianna Wallach|           Creekmore|     8/5/1992|  01:03:46 PM|28.09|            50|      2/28/2020|                Q1|             H1|           2020|               2|             February|        Feb|            28|        Friday|      Fri|                0.51|197519|        24%|296-15-3535|225-846-1969|     Newllano|              Vernon|     Newllano|   LA|71461|    South|  wewallach|       kM\\7h*}7|   Walker Wallach|\n",
            "|144102|        Ms.|  Jesusita|             W|   Hollie|     F|jesusita.hollie@h...|  Clement Hollie|      Nilda Hollie|              Barone|   10/30/1987|  04:55:43 AM|32.86|            49|       3/5/2015|                Q1|             H1|           2015|               3|                March|        Mar|             5|      Thursday|      Thu|                 5.5|103839|         6%|375-37-3861|209-219-5562|      Topanga|         Los Angeles|      Topanga|   CA|90290|     West|   jwhollie|       p1-G0\\b~|  Jesusita Hollie|\n",
            "|687793|        Mr.|    Fausto|             P|  Esqueda|     M|fausto.esqueda@ao...|  Randal Esqueda|      Yang Esqueda|             Cullens|    4/23/1971|  10:25:52 AM|49.39|            75|     10/29/1998|                Q4|             H2|           1998|              10|              October|        Oct|            29|      Thursday|      Thu|               21.85| 60101|         5%|095-02-0857|216-722-2112|    Somerdale|          Tuscarawas|    Somerdale|   OH|44678|  Midwest|  fpesqueda| lX!iJCJF@[f-/F|   Fausto Esqueda|\n",
            "|636308|       Mrs.|     Vanda|             S|    Komar|     F| vanda.komar@aol.com|     Carlo Komar|       Katia Komar|            Almanzar|     9/2/1962|  02:52:40 AM|58.04|            52|      7/25/2018|                Q3|             H2|           2018|               7|                 July|        Jul|            25|     Wednesday|      Wed|                 2.1|115639|        26%|002-11-5408|216-224-9563|        Akron|              Summit|        Akron|   OH|44312|  Midwest|    vskomar|I0!gVO~XFHG0\\9q|      Vanda Komar|\n",
            "|218660|       Mrs.|   Destiny|             A|Nicholson|     F|destiny.nicholson...| Ramon Nicholson|  Tanika Nicholson|             Schauer|     7/1/1995|  01:58:42 PM|25.19|            54|     11/22/2016|                Q4|             H2|           2016|              11|             November|        Nov|            22|       Tuesday|      Tue|                3.78|126048|        19%|386-37-5628|201-997-3957|Atlantic City|            Atlantic|Atlantic City|   NJ| 8401|Northeast|danicholson|       s|?t/%X+|Destiny Nicholson|\n",
            "|465691|        Ms.|      Evie|             V|    Hamby|     F|evie.hamby@gmail.com|     Devin Hamby|      Jerica Hamby|                Plum|    6/22/1980|  12:17:42 AM|40.22|            60|      10/4/2013|                Q4|             H2|           2013|              10|              October|        Oct|             4|        Friday|      Fri|                6.91|193757|        28%|682-24-5946|201-331-7085|     Rockaway|              Morris|     Rockaway|   NJ| 7866|Northeast|    evhamby|       Xv7!P;xf|       Evie Hamby|\n",
            "|242339|        Dr.|   Carlton|             G|Friedrich|     M|carlton.friedrich...| Tommy Friedrich|   Ricki Friedrich|                Camp|    10/7/1993|  12:05:46 AM|26.92|            64|      10/5/2016|                Q4|             H2|           2016|              10|              October|        Oct|             5|     Wednesday|      Wed|                3.91| 43826|        14%|717-18-8892|216-458-6650|   Cincinnati|            Hamilton|   Cincinnati|   OH|45202|  Midwest|cgfriedrich|     ROEj:i88Ov|Carlton Friedrich|\n",
            "|636949|        Mr.|   Carmelo|             A|   Haynie|     M|carmelo.haynie@gm...|    Mason Haynie|     Dorian Haynie|            Blessing|    3/19/1988|  01:02:33 PM|32.47|            83|      3/10/2015|                Q1|             H1|           2015|               3|                March|        Mar|            10|       Tuesday|      Tue|                5.48| 84036|         2%|529-99-1135|231-719-8915|       Howell|          Livingston|       Howell|   MI|48844|  Midwest|   cahaynie|     R^[haXId3H|   Carmelo Haynie|\n",
            "|890565|        Ms.|      Bari|             K|   Troche|     F|bari.troche@hotma...|   Wilson Troche|    Madison Troche|              Imhoff|    6/12/1961|  12:10:42 PM|59.26|            40|       6/6/2006|                Q2|             H1|           2006|               6|                 June|        Jun|             6|       Tuesday|      Tue|               14.25|182148|        30%|479-41-7839|505-741-3868| Cochiti Lake|            Sandoval| Cochiti Lake|   NM|87083|     West|   bktroche|F}BQulqy[P@<Y8q|      Bari Troche|\n",
            "|206270|        Mr.|    Burton|             B|    Lowry|     M|burton.lowry@comc...|      Oren Lowry|      Fredda Lowry|             Goodwyn|    9/18/1987|  10:33:51 PM|32.98|            50|     10/29/2011|                Q4|             H2|           2011|              10|              October|        Oct|            29|      Saturday|      Sat|                8.85|181592|        26%|618-87-1917|215-747-2870|    Palmerton|              Carbon|    Palmerton|   PA|18071|Northeast|    bblowry|  k;B:j!?CkWb**|     Burton Lowry|\n",
            "|418390|      Prof.|    Mickey|             Z|  Bassham|     M|mickey.bassham@gm...|    Deon Bassham|       Lan Bassham|             Buttler|    9/29/1997|  11:32:24 AM|22.94|            57|     12/19/2019|                Q4|             H2|           2019|              12|             December|        Dec|            19|      Thursday|      Thu|                 0.7|131922|        23%|186-86-7205|231-987-8818|   Lake Orion|             Oakland|   Lake Orion|   MI|48362|  Midwest|  mzbassham|BVT4u}~8f{;xl15|   Mickey Bassham|\n",
            "|359884|        Ms.|      Ying|             Y|  Cerrone|     F|ying.cerrone@aol.com|Benedict Cerrone|   Jeanett Cerrone|                Line|    3/19/1980|  08:03:52 AM|40.48|            53|      5/17/2012|                Q2|             H1|           2012|               5|                  May|        May|            17|      Thursday|      Thu|                 8.3|184946|         1%|083-02-7174|218-498-8798|         Iona|              Murray|         Iona|   MN|56141|  Midwest|  yycerrone|       Lx8ii-9U|     Ying Cerrone|\n",
            "|301840|       Mrs.|     Bette|             O|    Copas|     F|bette.copas@sbcgl...|    Rupert Copas|       Bette Copas|              Gerner|   11/12/1962|  07:20:25 AM|57.84|            55|      2/26/2000|                Q1|             H1|           2000|               2|             February|        Feb|            26|      Saturday|      Sat|               20.53|103833|        27%|124-98-3183|307-986-9240|    Hillsdale|             Laramie|    Hillsdale|   WY|82060|     West|    bocopas|   Fz-z~VtH9dfo|      Bette Copas|\n",
            "|232212|       Mrs.|      Tien|             W|   Harkey|     F| tien.harkey@cox.net|    Robin Harkey|   Carlotta Harkey|                Blas|     9/4/1998|  12:31:09 AM|22.01|            52|      5/26/2020|                Q2|             H1|           2020|               5|                  May|        May|            26|       Tuesday|      Tue|                0.27|103292|        10%|615-87-8886|209-433-3579|       Fresno|              Fresno|       Fresno|   CA|93782|     West|   twharkey| c/jI.a^K|[$}o#|      Tien Harkey|\n",
            "|450156|        Ms.|      Loma|             S|  Chesney|     F|loma.chesney@yaho...|    Bret Chesney|     Viola Chesney|            Barnhill|    5/25/1963|  05:20:17 PM|57.31|            50|     11/14/1989|                Q4|             H2|           1989|              11|             November|        Nov|            14|       Tuesday|      Tue|               30.82| 66545|         7%|161-86-9824|205-930-2406|       Mobile|              Mobile|       Mobile|   AL|36602|    South|  lschesney|8U+<JTEXx&Q]R\\S|     Loma Chesney|\n",
            "|158031|        Mr.|     Ruben|             K|   Pastor|     M|ruben.pastor@gmai...|Filiberto Pastor|       Dona Pastor|             Audette|   11/16/1993|  03:28:49 PM|26.81|            83|     11/20/2016|                Q4|             H2|           2016|              11|             November|        Nov|            20|        Sunday|      Sun|                3.78| 41892|         1%|768-02-9782|262-438-6125|    Cedarburg|             Ozaukee|    Cedarburg|   WI|53012|  Midwest|   rkpastor|      rk6{Wd|t%|     Ruben Pastor|\n",
            "+------+-----------+----------+--------------+---------+------+--------------------+----------------+------------------+--------------------+-------------+-------------+-----+--------------+---------------+------------------+---------------+---------------+----------------+---------------------+-----------+--------------+--------------+---------+--------------------+------+-----------+-----------+------------+-------------+--------------------+-------------+-----+-----+---------+-----------+---------------+-----------------+\n",
            "only showing top 20 rows\n",
            "\n"
          ],
          "name": "stdout"
        }
      ]
    },
    {
      "cell_type": "code",
      "metadata": {
        "colab": {
          "base_uri": "https://localhost:8080/"
        },
        "id": "04DdcZcg9J4o",
        "outputId": "cc1fe51a-6727-4f2c-c34d-6efcc64f8781"
      },
      "source": [
        "data.select(data.Age.between(21, 26)).show()"
      ],
      "execution_count": 23,
      "outputs": [
        {
          "output_type": "stream",
          "text": [
            "+-----------------------------+\n",
            "|((Age >= 21) AND (Age <= 26))|\n",
            "+-----------------------------+\n",
            "|                        false|\n",
            "|                        false|\n",
            "|                        false|\n",
            "|                         true|\n",
            "|                        false|\n",
            "|                        false|\n",
            "|                        false|\n",
            "|                        false|\n",
            "|                         true|\n",
            "|                        false|\n",
            "|                        false|\n",
            "|                        false|\n",
            "|                        false|\n",
            "|                        false|\n",
            "|                         true|\n",
            "|                        false|\n",
            "|                        false|\n",
            "|                         true|\n",
            "|                        false|\n",
            "|                        false|\n",
            "+-----------------------------+\n",
            "only showing top 20 rows\n",
            "\n"
          ],
          "name": "stdout"
        }
      ]
    },
    {
      "cell_type": "code",
      "metadata": {
        "colab": {
          "base_uri": "https://localhost:8080/"
        },
        "id": "pGJn5Ki2-0B7",
        "outputId": "92ff72e2-dd73-4b3e-9896-615cefb8c0c9"
      },
      "source": [
        "data.agg(min(\"Age\")).show()"
      ],
      "execution_count": 24,
      "outputs": [
        {
          "output_type": "stream",
          "text": [
            "+--------+\n",
            "|min(Age)|\n",
            "+--------+\n",
            "|    21.0|\n",
            "+--------+\n",
            "\n"
          ],
          "name": "stdout"
        }
      ]
    },
    {
      "cell_type": "code",
      "metadata": {
        "colab": {
          "base_uri": "https://localhost:8080/"
        },
        "id": "M1PTQjxp-8Dl",
        "outputId": "a6d48c1e-f178-4210-8fe2-9ae55efa1473"
      },
      "source": [
        "data.agg(max(\"Age\")).show()"
      ],
      "execution_count": 25,
      "outputs": [
        {
          "output_type": "stream",
          "text": [
            "+--------+\n",
            "|max(Age)|\n",
            "+--------+\n",
            "|    60.0|\n",
            "+--------+\n",
            "\n"
          ],
          "name": "stdout"
        }
      ]
    },
    {
      "cell_type": "code",
      "metadata": {
        "colab": {
          "base_uri": "https://localhost:8080/"
        },
        "id": "_FymrHAs_HBu",
        "outputId": "7f533504-e5b2-4899-f654-cef8e0d517c5"
      },
      "source": [
        "data.SELECT employeeid, age, lastname, salary\n",
        "\n",
        "FROM employee_info\n",
        "\n",
        "WHERE age >= 30 AND age <= 40;"
      ],
      "execution_count": 26,
      "outputs": [
        {
          "output_type": "stream",
          "text": [
            "+--------+\n",
            "|min(Age)|\n",
            "+--------+\n",
            "|    21.0|\n",
            "+--------+\n",
            "\n"
          ],
          "name": "stdout"
        }
      ]
    },
    {
      "cell_type": "code",
      "metadata": {
        "id": "29c5BRntAo2W"
      },
      "source": [
        "data.registerTempTable(\"Hr_data\")"
      ],
      "execution_count": 27,
      "outputs": []
    },
    {
      "cell_type": "code",
      "metadata": {
        "colab": {
          "base_uri": "https://localhost:8080/"
        },
        "id": "1PxAVawPzAyu",
        "outputId": "ea3f79d2-67de-4141-a437-1005107552f9"
      },
      "source": [
        "output = spark.sql('SELECT name,Gender,Email,Date_of_Birth,Age,Salary,Phone_no FROM Hr_data WHERE Age >=21 AND Age <=25',)\n",
        "output.show()"
      ],
      "execution_count": 29,
      "outputs": [
        {
          "output_type": "stream",
          "text": [
            "+-----------------+------+--------------------+-------------+-----+------+------------+\n",
            "|             name|Gender|               Email|Date_of_Birth|  Age|Salary|    Phone_no|\n",
            "+-----------------+------+--------------------+-------------+-----+------+------------+\n",
            "|   Mickey Bassham|     M|mickey.bassham@gm...|    9/29/1997|22.94|131922|231-987-8818|\n",
            "|      Tien Harkey|     F| tien.harkey@cox.net|     9/4/1998|22.01|103292|209-433-3579|\n",
            "|  Livia Barefield|     F|livia.barefield@g...|     8/3/1997|23.09|178965|206-732-4227|\n",
            "|   Renea Talavera|     F|renea.talavera@ya...|     4/9/1997|23.41|144167|803-316-5659|\n",
            "|Valentine Fuentez|     M|valentine.fuentez...|   12/25/1996| 23.7|159076|210-431-9245|\n",
            "|   Shayne Shaffer|     M|shayne.shaffer@ya...|     2/1/1998|22.59|119606|316-496-8544|\n",
            "|     Fae Jeppesen|     F|fae.jeppesen@yaho...|     3/1/1996|24.52|149128|401-315-1878|\n",
            "|   Lucius Dengler|     M|lucius.dengler@ib...|   10/31/1998|21.85|158901|217-471-7434|\n",
            "|    Rashad Tipton|     M|rashad.tipton@com...|     9/2/1997|23.01|195242|217-973-6472|\n",
            "|  Wilber Rodrigez|     M|wilber.rodrigez@g...|     3/6/1996| 24.5|185031|236-350-3117|\n",
            "|  Breana Loughran|     F|breana.loughran@g...|    1/21/1997|23.62|102617|262-480-4721|\n",
            "|     Joan Mcauley|     M|joan.mcauley@yaho...|     6/5/1998|22.25|197292|225-800-3505|\n",
            "|    Sueann Rawley|     F|sueann.rawley@hot...|    7/29/1996|24.11| 86662|210-724-5128|\n",
            "|   Mariella Baade|     F|mariella.baade@ms...|    4/10/1998|22.41| 74732|229-366-3496|\n",
            "| Mitchell Breslin|     M|mitchell.breslin@...|    5/24/1997|23.29|190645|218-695-3363|\n",
            "|   Shery Ransdell|     F|shery.ransdell@ex...|    8/16/1999|21.06|119652|316-978-0594|\n",
            "|Santa Trojanowski|     F|santa.trojanowski...|    8/28/1996|24.02|180764|209-748-8967|\n",
            "|     Colton Ogara|     M|colton.ogara@yaho...|    7/13/1996|24.15|139964|209-690-2633|\n",
            "|  Chong Castorena|     M|chong.castorena@e...|    3/18/1997|23.47|110064|217-406-3558|\n",
            "|    Robbie Riffle|     M|robbie.riffle@gma...|    10/4/1998|21.92|113034|339-822-3494|\n",
            "+-----------------+------+--------------------+-------------+-----+------+------------+\n",
            "only showing top 20 rows\n",
            "\n"
          ],
          "name": "stdout"
        }
      ]
    },
    {
      "cell_type": "code",
      "metadata": {
        "colab": {
          "base_uri": "https://localhost:8080/"
        },
        "id": "j-WLKbv7DHmQ",
        "outputId": "691f0be4-4e2e-4a2d-a3e5-11c418cd0541"
      },
      "source": [
        "output.count()"
      ],
      "execution_count": 30,
      "outputs": [
        {
          "output_type": "execute_result",
          "data": {
            "text/plain": [
              "512996"
            ]
          },
          "metadata": {
            "tags": []
          },
          "execution_count": 30
        }
      ]
    },
    {
      "cell_type": "code",
      "metadata": {
        "id": "Lq2zivkqDXHk"
      },
      "source": [
        "output.write.format('json').save('/content/Young_HR.json')"
      ],
      "execution_count": 31,
      "outputs": []
    },
    {
      "cell_type": "code",
      "metadata": {
        "id": "rSg7ysyKFvpD"
      },
      "source": [
        "output.coalesce(1).write.format('json').save('/content/Young_HR_JSON.json')"
      ],
      "execution_count": 33,
      "outputs": []
    },
    {
      "cell_type": "code",
      "metadata": {
        "id": "nG5DdwwqGMPZ"
      },
      "source": [
        "Young_HR = spark.read.json('/content/Young_HR_JSON.json/part-00000-dad6ea50-3400-4d49-ae5c-6fb08a62265a-c000.json')"
      ],
      "execution_count": 34,
      "outputs": []
    },
    {
      "cell_type": "code",
      "metadata": {
        "colab": {
          "base_uri": "https://localhost:8080/"
        },
        "id": "DvZ252HwGoVM",
        "outputId": "f1ca0e28-1b13-46c8-f7d1-4d9e26935b1b"
      },
      "source": [
        "Young_HR.show()"
      ],
      "execution_count": 35,
      "outputs": [
        {
          "output_type": "stream",
          "text": [
            "+-----+-------------+--------------------+------+------------+------+-----------------+\n",
            "|  Age|Date_of_Birth|               Email|Gender|    Phone_no|Salary|             name|\n",
            "+-----+-------------+--------------------+------+------------+------+-----------------+\n",
            "|22.94|    9/29/1997|mickey.bassham@gm...|     M|231-987-8818|131922|   Mickey Bassham|\n",
            "|22.01|     9/4/1998| tien.harkey@cox.net|     F|209-433-3579|103292|      Tien Harkey|\n",
            "|23.09|     8/3/1997|livia.barefield@g...|     F|206-732-4227|178965|  Livia Barefield|\n",
            "|23.41|     4/9/1997|renea.talavera@ya...|     F|803-316-5659|144167|   Renea Talavera|\n",
            "| 23.7|   12/25/1996|valentine.fuentez...|     M|210-431-9245|159076|Valentine Fuentez|\n",
            "|22.59|     2/1/1998|shayne.shaffer@ya...|     M|316-496-8544|119606|   Shayne Shaffer|\n",
            "|24.52|     3/1/1996|fae.jeppesen@yaho...|     F|401-315-1878|149128|     Fae Jeppesen|\n",
            "|21.85|   10/31/1998|lucius.dengler@ib...|     M|217-471-7434|158901|   Lucius Dengler|\n",
            "|23.01|     9/2/1997|rashad.tipton@com...|     M|217-973-6472|195242|    Rashad Tipton|\n",
            "| 24.5|     3/6/1996|wilber.rodrigez@g...|     M|236-350-3117|185031|  Wilber Rodrigez|\n",
            "|23.62|    1/21/1997|breana.loughran@g...|     F|262-480-4721|102617|  Breana Loughran|\n",
            "|22.25|     6/5/1998|joan.mcauley@yaho...|     M|225-800-3505|197292|     Joan Mcauley|\n",
            "|24.11|    7/29/1996|sueann.rawley@hot...|     F|210-724-5128| 86662|    Sueann Rawley|\n",
            "|22.41|    4/10/1998|mariella.baade@ms...|     F|229-366-3496| 74732|   Mariella Baade|\n",
            "|23.29|    5/24/1997|mitchell.breslin@...|     M|218-695-3363|190645| Mitchell Breslin|\n",
            "|21.06|    8/16/1999|shery.ransdell@ex...|     F|316-978-0594|119652|   Shery Ransdell|\n",
            "|24.02|    8/28/1996|santa.trojanowski...|     F|209-748-8967|180764|Santa Trojanowski|\n",
            "|24.15|    7/13/1996|colton.ogara@yaho...|     M|209-690-2633|139964|     Colton Ogara|\n",
            "|23.47|    3/18/1997|chong.castorena@e...|     M|217-406-3558|110064|  Chong Castorena|\n",
            "|21.92|    10/4/1998|robbie.riffle@gma...|     M|339-822-3494|113034|    Robbie Riffle|\n",
            "+-----+-------------+--------------------+------+------------+------+-----------------+\n",
            "only showing top 20 rows\n",
            "\n"
          ],
          "name": "stdout"
        }
      ]
    }
  ]
}